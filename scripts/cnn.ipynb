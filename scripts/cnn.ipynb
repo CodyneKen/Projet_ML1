{
 "cells": [
  {
   "cell_type": "code",
   "execution_count": 51,
   "metadata": {},
   "outputs": [
    {
     "data": {
      "text/html": [
       "<div>\n",
       "<style scoped>\n",
       "    .dataframe tbody tr th:only-of-type {\n",
       "        vertical-align: middle;\n",
       "    }\n",
       "\n",
       "    .dataframe tbody tr th {\n",
       "        vertical-align: top;\n",
       "    }\n",
       "\n",
       "    .dataframe thead th {\n",
       "        text-align: right;\n",
       "    }\n",
       "</style>\n",
       "<table border=\"1\" class=\"dataframe\">\n",
       "  <thead>\n",
       "    <tr style=\"text-align: right;\">\n",
       "      <th></th>\n",
       "      <th>0</th>\n",
       "      <th>1</th>\n",
       "      <th>2</th>\n",
       "      <th>3</th>\n",
       "      <th>4</th>\n",
       "      <th>5</th>\n",
       "      <th>6</th>\n",
       "      <th>7</th>\n",
       "      <th>8</th>\n",
       "      <th>9</th>\n",
       "      <th>...</th>\n",
       "      <th>153</th>\n",
       "      <th>154</th>\n",
       "      <th>155</th>\n",
       "      <th>156</th>\n",
       "      <th>157</th>\n",
       "      <th>158</th>\n",
       "      <th>159</th>\n",
       "      <th>160</th>\n",
       "      <th>161</th>\n",
       "      <th>labels</th>\n",
       "    </tr>\n",
       "  </thead>\n",
       "  <tbody>\n",
       "    <tr>\n",
       "      <th>0</th>\n",
       "      <td>0.035383</td>\n",
       "      <td>0.682562</td>\n",
       "      <td>0.631392</td>\n",
       "      <td>0.604122</td>\n",
       "      <td>0.593008</td>\n",
       "      <td>0.606561</td>\n",
       "      <td>0.541665</td>\n",
       "      <td>0.490245</td>\n",
       "      <td>0.541293</td>\n",
       "      <td>0.602763</td>\n",
       "      <td>...</td>\n",
       "      <td>0.000008</td>\n",
       "      <td>0.000010</td>\n",
       "      <td>0.000016</td>\n",
       "      <td>0.000037</td>\n",
       "      <td>0.000045</td>\n",
       "      <td>0.000034</td>\n",
       "      <td>0.000016</td>\n",
       "      <td>0.000007</td>\n",
       "      <td>7.018234e-07</td>\n",
       "      <td>N</td>\n",
       "    </tr>\n",
       "    <tr>\n",
       "      <th>1</th>\n",
       "      <td>0.171621</td>\n",
       "      <td>0.773267</td>\n",
       "      <td>0.720554</td>\n",
       "      <td>0.698526</td>\n",
       "      <td>0.675677</td>\n",
       "      <td>0.649336</td>\n",
       "      <td>0.561003</td>\n",
       "      <td>0.566162</td>\n",
       "      <td>0.627939</td>\n",
       "      <td>0.706442</td>\n",
       "      <td>...</td>\n",
       "      <td>0.000611</td>\n",
       "      <td>0.000619</td>\n",
       "      <td>0.000651</td>\n",
       "      <td>0.000671</td>\n",
       "      <td>0.000714</td>\n",
       "      <td>0.000662</td>\n",
       "      <td>0.000632</td>\n",
       "      <td>0.000636</td>\n",
       "      <td>6.285412e-04</td>\n",
       "      <td>N</td>\n",
       "    </tr>\n",
       "    <tr>\n",
       "      <th>2</th>\n",
       "      <td>0.036989</td>\n",
       "      <td>0.581158</td>\n",
       "      <td>0.648372</td>\n",
       "      <td>0.665474</td>\n",
       "      <td>0.574450</td>\n",
       "      <td>0.527603</td>\n",
       "      <td>0.569063</td>\n",
       "      <td>0.568006</td>\n",
       "      <td>0.440939</td>\n",
       "      <td>0.413963</td>\n",
       "      <td>...</td>\n",
       "      <td>0.000005</td>\n",
       "      <td>0.000005</td>\n",
       "      <td>0.000005</td>\n",
       "      <td>0.000002</td>\n",
       "      <td>0.000001</td>\n",
       "      <td>0.000001</td>\n",
       "      <td>0.000002</td>\n",
       "      <td>0.000002</td>\n",
       "      <td>3.452211e-07</td>\n",
       "      <td>N</td>\n",
       "    </tr>\n",
       "    <tr>\n",
       "      <th>3</th>\n",
       "      <td>0.069629</td>\n",
       "      <td>0.589378</td>\n",
       "      <td>0.541421</td>\n",
       "      <td>0.541959</td>\n",
       "      <td>0.586754</td>\n",
       "      <td>0.491672</td>\n",
       "      <td>0.464231</td>\n",
       "      <td>0.533424</td>\n",
       "      <td>0.623905</td>\n",
       "      <td>0.748939</td>\n",
       "      <td>...</td>\n",
       "      <td>0.000565</td>\n",
       "      <td>0.000386</td>\n",
       "      <td>0.000424</td>\n",
       "      <td>0.000616</td>\n",
       "      <td>0.000660</td>\n",
       "      <td>0.000487</td>\n",
       "      <td>0.000254</td>\n",
       "      <td>0.000090</td>\n",
       "      <td>5.960710e-06</td>\n",
       "      <td>N</td>\n",
       "    </tr>\n",
       "    <tr>\n",
       "      <th>4</th>\n",
       "      <td>0.170729</td>\n",
       "      <td>0.650319</td>\n",
       "      <td>0.608939</td>\n",
       "      <td>0.607158</td>\n",
       "      <td>0.633005</td>\n",
       "      <td>0.584595</td>\n",
       "      <td>0.527609</td>\n",
       "      <td>0.540251</td>\n",
       "      <td>0.621838</td>\n",
       "      <td>0.760092</td>\n",
       "      <td>...</td>\n",
       "      <td>0.000643</td>\n",
       "      <td>0.000473</td>\n",
       "      <td>0.000515</td>\n",
       "      <td>0.000710</td>\n",
       "      <td>0.000755</td>\n",
       "      <td>0.000571</td>\n",
       "      <td>0.000324</td>\n",
       "      <td>0.000174</td>\n",
       "      <td>8.189615e-05</td>\n",
       "      <td>N</td>\n",
       "    </tr>\n",
       "    <tr>\n",
       "      <th>...</th>\n",
       "      <td>...</td>\n",
       "      <td>...</td>\n",
       "      <td>...</td>\n",
       "      <td>...</td>\n",
       "      <td>...</td>\n",
       "      <td>...</td>\n",
       "      <td>...</td>\n",
       "      <td>...</td>\n",
       "      <td>...</td>\n",
       "      <td>...</td>\n",
       "      <td>...</td>\n",
       "      <td>...</td>\n",
       "      <td>...</td>\n",
       "      <td>...</td>\n",
       "      <td>...</td>\n",
       "      <td>...</td>\n",
       "      <td>...</td>\n",
       "      <td>...</td>\n",
       "      <td>...</td>\n",
       "      <td>...</td>\n",
       "      <td>...</td>\n",
       "    </tr>\n",
       "    <tr>\n",
       "      <th>1297</th>\n",
       "      <td>0.177409</td>\n",
       "      <td>0.685879</td>\n",
       "      <td>0.688923</td>\n",
       "      <td>0.692181</td>\n",
       "      <td>0.695660</td>\n",
       "      <td>0.732018</td>\n",
       "      <td>0.726838</td>\n",
       "      <td>0.699215</td>\n",
       "      <td>0.664477</td>\n",
       "      <td>0.703567</td>\n",
       "      <td>...</td>\n",
       "      <td>0.003476</td>\n",
       "      <td>0.004130</td>\n",
       "      <td>0.003975</td>\n",
       "      <td>0.003647</td>\n",
       "      <td>0.003759</td>\n",
       "      <td>0.003958</td>\n",
       "      <td>0.003687</td>\n",
       "      <td>0.002704</td>\n",
       "      <td>2.190249e-03</td>\n",
       "      <td>P</td>\n",
       "    </tr>\n",
       "    <tr>\n",
       "      <th>1298</th>\n",
       "      <td>0.060417</td>\n",
       "      <td>0.741477</td>\n",
       "      <td>0.846064</td>\n",
       "      <td>0.677123</td>\n",
       "      <td>0.540445</td>\n",
       "      <td>0.546407</td>\n",
       "      <td>0.503164</td>\n",
       "      <td>0.497387</td>\n",
       "      <td>0.624307</td>\n",
       "      <td>0.665305</td>\n",
       "      <td>...</td>\n",
       "      <td>0.000683</td>\n",
       "      <td>0.000667</td>\n",
       "      <td>0.000452</td>\n",
       "      <td>0.000225</td>\n",
       "      <td>0.000215</td>\n",
       "      <td>0.000398</td>\n",
       "      <td>0.000448</td>\n",
       "      <td>0.000251</td>\n",
       "      <td>1.651544e-05</td>\n",
       "      <td>P</td>\n",
       "    </tr>\n",
       "    <tr>\n",
       "      <th>1299</th>\n",
       "      <td>0.061669</td>\n",
       "      <td>0.701292</td>\n",
       "      <td>0.650403</td>\n",
       "      <td>0.600404</td>\n",
       "      <td>0.643707</td>\n",
       "      <td>0.584001</td>\n",
       "      <td>0.512437</td>\n",
       "      <td>0.559121</td>\n",
       "      <td>0.596951</td>\n",
       "      <td>0.596030</td>\n",
       "      <td>...</td>\n",
       "      <td>0.000926</td>\n",
       "      <td>0.001583</td>\n",
       "      <td>0.002262</td>\n",
       "      <td>0.002180</td>\n",
       "      <td>0.001111</td>\n",
       "      <td>0.000833</td>\n",
       "      <td>0.001007</td>\n",
       "      <td>0.000629</td>\n",
       "      <td>4.519488e-05</td>\n",
       "      <td>P</td>\n",
       "    </tr>\n",
       "    <tr>\n",
       "      <th>1300</th>\n",
       "      <td>0.135363</td>\n",
       "      <td>0.732490</td>\n",
       "      <td>0.698547</td>\n",
       "      <td>0.730017</td>\n",
       "      <td>0.733110</td>\n",
       "      <td>0.664281</td>\n",
       "      <td>0.611099</td>\n",
       "      <td>0.649955</td>\n",
       "      <td>0.633053</td>\n",
       "      <td>0.671104</td>\n",
       "      <td>...</td>\n",
       "      <td>0.001099</td>\n",
       "      <td>0.001785</td>\n",
       "      <td>0.002457</td>\n",
       "      <td>0.002369</td>\n",
       "      <td>0.001336</td>\n",
       "      <td>0.001035</td>\n",
       "      <td>0.001215</td>\n",
       "      <td>0.000796</td>\n",
       "      <td>2.439616e-04</td>\n",
       "      <td>P</td>\n",
       "    </tr>\n",
       "    <tr>\n",
       "      <th>1301</th>\n",
       "      <td>0.072024</td>\n",
       "      <td>0.738617</td>\n",
       "      <td>0.723326</td>\n",
       "      <td>0.672603</td>\n",
       "      <td>0.584415</td>\n",
       "      <td>0.548358</td>\n",
       "      <td>0.577717</td>\n",
       "      <td>0.496668</td>\n",
       "      <td>0.501906</td>\n",
       "      <td>0.581501</td>\n",
       "      <td>...</td>\n",
       "      <td>0.000772</td>\n",
       "      <td>0.000765</td>\n",
       "      <td>0.000659</td>\n",
       "      <td>0.000534</td>\n",
       "      <td>0.000225</td>\n",
       "      <td>0.000316</td>\n",
       "      <td>0.000463</td>\n",
       "      <td>0.000272</td>\n",
       "      <td>2.147239e-05</td>\n",
       "      <td>P</td>\n",
       "    </tr>\n",
       "  </tbody>\n",
       "</table>\n",
       "<p>1302 rows × 163 columns</p>\n",
       "</div>"
      ],
      "text/plain": [
       "             0         1         2         3         4         5         6  \\\n",
       "0     0.035383  0.682562  0.631392  0.604122  0.593008  0.606561  0.541665   \n",
       "1     0.171621  0.773267  0.720554  0.698526  0.675677  0.649336  0.561003   \n",
       "2     0.036989  0.581158  0.648372  0.665474  0.574450  0.527603  0.569063   \n",
       "3     0.069629  0.589378  0.541421  0.541959  0.586754  0.491672  0.464231   \n",
       "4     0.170729  0.650319  0.608939  0.607158  0.633005  0.584595  0.527609   \n",
       "...        ...       ...       ...       ...       ...       ...       ...   \n",
       "1297  0.177409  0.685879  0.688923  0.692181  0.695660  0.732018  0.726838   \n",
       "1298  0.060417  0.741477  0.846064  0.677123  0.540445  0.546407  0.503164   \n",
       "1299  0.061669  0.701292  0.650403  0.600404  0.643707  0.584001  0.512437   \n",
       "1300  0.135363  0.732490  0.698547  0.730017  0.733110  0.664281  0.611099   \n",
       "1301  0.072024  0.738617  0.723326  0.672603  0.584415  0.548358  0.577717   \n",
       "\n",
       "             7         8         9  ...       153       154       155  \\\n",
       "0     0.490245  0.541293  0.602763  ...  0.000008  0.000010  0.000016   \n",
       "1     0.566162  0.627939  0.706442  ...  0.000611  0.000619  0.000651   \n",
       "2     0.568006  0.440939  0.413963  ...  0.000005  0.000005  0.000005   \n",
       "3     0.533424  0.623905  0.748939  ...  0.000565  0.000386  0.000424   \n",
       "4     0.540251  0.621838  0.760092  ...  0.000643  0.000473  0.000515   \n",
       "...        ...       ...       ...  ...       ...       ...       ...   \n",
       "1297  0.699215  0.664477  0.703567  ...  0.003476  0.004130  0.003975   \n",
       "1298  0.497387  0.624307  0.665305  ...  0.000683  0.000667  0.000452   \n",
       "1299  0.559121  0.596951  0.596030  ...  0.000926  0.001583  0.002262   \n",
       "1300  0.649955  0.633053  0.671104  ...  0.001099  0.001785  0.002457   \n",
       "1301  0.496668  0.501906  0.581501  ...  0.000772  0.000765  0.000659   \n",
       "\n",
       "           156       157       158       159       160           161  labels  \n",
       "0     0.000037  0.000045  0.000034  0.000016  0.000007  7.018234e-07       N  \n",
       "1     0.000671  0.000714  0.000662  0.000632  0.000636  6.285412e-04       N  \n",
       "2     0.000002  0.000001  0.000001  0.000002  0.000002  3.452211e-07       N  \n",
       "3     0.000616  0.000660  0.000487  0.000254  0.000090  5.960710e-06       N  \n",
       "4     0.000710  0.000755  0.000571  0.000324  0.000174  8.189615e-05       N  \n",
       "...        ...       ...       ...       ...       ...           ...     ...  \n",
       "1297  0.003647  0.003759  0.003958  0.003687  0.002704  2.190249e-03       P  \n",
       "1298  0.000225  0.000215  0.000398  0.000448  0.000251  1.651544e-05       P  \n",
       "1299  0.002180  0.001111  0.000833  0.001007  0.000629  4.519488e-05       P  \n",
       "1300  0.002369  0.001336  0.001035  0.001215  0.000796  2.439616e-04       P  \n",
       "1301  0.000534  0.000225  0.000316  0.000463  0.000272  2.147239e-05       P  \n",
       "\n",
       "[1302 rows x 163 columns]"
      ]
     },
     "execution_count": 51,
     "metadata": {},
     "output_type": "execute_result"
    }
   ],
   "source": [
    "import pandas as pd\n",
    "import matplotlib.pyplot as plt\n",
    "import joblib\n",
    "\n",
    "df = pd.read_csv(\"../data/ref_data.csv\")\n",
    "df"
   ]
  },
  {
   "cell_type": "code",
   "execution_count": 110,
   "metadata": {},
   "outputs": [],
   "source": [
    "import fct_model\n",
    "import importlib\n",
    "importlib.reload(fct_model)\n",
    "\n",
    "X, Y, encoder, scaler = fct_model.preprocess_data(df)"
   ]
  },
  {
   "cell_type": "code",
   "execution_count": 67,
   "metadata": {},
   "outputs": [
    {
     "data": {
      "text/plain": [
       "((1041, 162, 1), (1041, 7), (261, 162, 1), (261, 7))"
      ]
     },
     "execution_count": 67,
     "metadata": {},
     "output_type": "execute_result"
    }
   ],
   "source": [
    "from sklearn.model_selection import train_test_split\n",
    "\n",
    "x_train, x_test, y_train, y_test = train_test_split(X, Y, random_state=42, test_size=0.2, stratify=Y, shuffle=True)\n",
    "x_train.shape, y_train.shape, x_test.shape, y_test.shape"
   ]
  },
  {
   "cell_type": "code",
   "execution_count": null,
   "metadata": {},
   "outputs": [
    {
     "data": {
      "text/html": [
       "<pre style=\"white-space:pre;overflow-x:auto;line-height:normal;font-family:Menlo,'DejaVu Sans Mono',consolas,'Courier New',monospace\"><span style=\"font-weight: bold\">Model: \"sequential_10\"</span>\n",
       "</pre>\n"
      ],
      "text/plain": [
       "\u001b[1mModel: \"sequential_10\"\u001b[0m\n"
      ]
     },
     "metadata": {},
     "output_type": "display_data"
    },
    {
     "data": {
      "text/html": [
       "<pre style=\"white-space:pre;overflow-x:auto;line-height:normal;font-family:Menlo,'DejaVu Sans Mono',consolas,'Courier New',monospace\">┏━━━━━━━━━━━━━━━━━━━━━━━━━━━━━━━━━┳━━━━━━━━━━━━━━━━━━━━━━━━┳━━━━━━━━━━━━━━━┓\n",
       "┃<span style=\"font-weight: bold\"> Layer (type)                    </span>┃<span style=\"font-weight: bold\"> Output Shape           </span>┃<span style=\"font-weight: bold\">       Param # </span>┃\n",
       "┡━━━━━━━━━━━━━━━━━━━━━━━━━━━━━━━━━╇━━━━━━━━━━━━━━━━━━━━━━━━╇━━━━━━━━━━━━━━━┩\n",
       "│ conv1d_20 (<span style=\"color: #0087ff; text-decoration-color: #0087ff\">Conv1D</span>)              │ (<span style=\"color: #00d7ff; text-decoration-color: #00d7ff\">None</span>, <span style=\"color: #00af00; text-decoration-color: #00af00\">162</span>, <span style=\"color: #00af00; text-decoration-color: #00af00\">128</span>)       │           <span style=\"color: #00af00; text-decoration-color: #00af00\">768</span> │\n",
       "├─────────────────────────────────┼────────────────────────┼───────────────┤\n",
       "│ dropout_20 (<span style=\"color: #0087ff; text-decoration-color: #0087ff\">Dropout</span>)            │ (<span style=\"color: #00d7ff; text-decoration-color: #00d7ff\">None</span>, <span style=\"color: #00af00; text-decoration-color: #00af00\">162</span>, <span style=\"color: #00af00; text-decoration-color: #00af00\">128</span>)       │             <span style=\"color: #00af00; text-decoration-color: #00af00\">0</span> │\n",
       "├─────────────────────────────────┼────────────────────────┼───────────────┤\n",
       "│ conv1d_21 (<span style=\"color: #0087ff; text-decoration-color: #0087ff\">Conv1D</span>)              │ (<span style=\"color: #00d7ff; text-decoration-color: #00d7ff\">None</span>, <span style=\"color: #00af00; text-decoration-color: #00af00\">162</span>, <span style=\"color: #00af00; text-decoration-color: #00af00\">64</span>)        │        <span style=\"color: #00af00; text-decoration-color: #00af00\">41,024</span> │\n",
       "├─────────────────────────────────┼────────────────────────┼───────────────┤\n",
       "│ dropout_21 (<span style=\"color: #0087ff; text-decoration-color: #0087ff\">Dropout</span>)            │ (<span style=\"color: #00d7ff; text-decoration-color: #00d7ff\">None</span>, <span style=\"color: #00af00; text-decoration-color: #00af00\">162</span>, <span style=\"color: #00af00; text-decoration-color: #00af00\">64</span>)        │             <span style=\"color: #00af00; text-decoration-color: #00af00\">0</span> │\n",
       "├─────────────────────────────────┼────────────────────────┼───────────────┤\n",
       "│ flatten_10 (<span style=\"color: #0087ff; text-decoration-color: #0087ff\">Flatten</span>)            │ (<span style=\"color: #00d7ff; text-decoration-color: #00d7ff\">None</span>, <span style=\"color: #00af00; text-decoration-color: #00af00\">10368</span>)          │             <span style=\"color: #00af00; text-decoration-color: #00af00\">0</span> │\n",
       "├─────────────────────────────────┼────────────────────────┼───────────────┤\n",
       "│ dense_20 (<span style=\"color: #0087ff; text-decoration-color: #0087ff\">Dense</span>)                │ (<span style=\"color: #00d7ff; text-decoration-color: #00d7ff\">None</span>, <span style=\"color: #00af00; text-decoration-color: #00af00\">32</span>)             │       <span style=\"color: #00af00; text-decoration-color: #00af00\">331,808</span> │\n",
       "├─────────────────────────────────┼────────────────────────┼───────────────┤\n",
       "│ dense_21 (<span style=\"color: #0087ff; text-decoration-color: #0087ff\">Dense</span>)                │ (<span style=\"color: #00d7ff; text-decoration-color: #00d7ff\">None</span>, <span style=\"color: #00af00; text-decoration-color: #00af00\">7</span>)              │           <span style=\"color: #00af00; text-decoration-color: #00af00\">231</span> │\n",
       "└─────────────────────────────────┴────────────────────────┴───────────────┘\n",
       "</pre>\n"
      ],
      "text/plain": [
       "┏━━━━━━━━━━━━━━━━━━━━━━━━━━━━━━━━━┳━━━━━━━━━━━━━━━━━━━━━━━━┳━━━━━━━━━━━━━━━┓\n",
       "┃\u001b[1m \u001b[0m\u001b[1mLayer (type)                   \u001b[0m\u001b[1m \u001b[0m┃\u001b[1m \u001b[0m\u001b[1mOutput Shape          \u001b[0m\u001b[1m \u001b[0m┃\u001b[1m \u001b[0m\u001b[1m      Param #\u001b[0m\u001b[1m \u001b[0m┃\n",
       "┡━━━━━━━━━━━━━━━━━━━━━━━━━━━━━━━━━╇━━━━━━━━━━━━━━━━━━━━━━━━╇━━━━━━━━━━━━━━━┩\n",
       "│ conv1d_20 (\u001b[38;5;33mConv1D\u001b[0m)              │ (\u001b[38;5;45mNone\u001b[0m, \u001b[38;5;34m162\u001b[0m, \u001b[38;5;34m128\u001b[0m)       │           \u001b[38;5;34m768\u001b[0m │\n",
       "├─────────────────────────────────┼────────────────────────┼───────────────┤\n",
       "│ dropout_20 (\u001b[38;5;33mDropout\u001b[0m)            │ (\u001b[38;5;45mNone\u001b[0m, \u001b[38;5;34m162\u001b[0m, \u001b[38;5;34m128\u001b[0m)       │             \u001b[38;5;34m0\u001b[0m │\n",
       "├─────────────────────────────────┼────────────────────────┼───────────────┤\n",
       "│ conv1d_21 (\u001b[38;5;33mConv1D\u001b[0m)              │ (\u001b[38;5;45mNone\u001b[0m, \u001b[38;5;34m162\u001b[0m, \u001b[38;5;34m64\u001b[0m)        │        \u001b[38;5;34m41,024\u001b[0m │\n",
       "├─────────────────────────────────┼────────────────────────┼───────────────┤\n",
       "│ dropout_21 (\u001b[38;5;33mDropout\u001b[0m)            │ (\u001b[38;5;45mNone\u001b[0m, \u001b[38;5;34m162\u001b[0m, \u001b[38;5;34m64\u001b[0m)        │             \u001b[38;5;34m0\u001b[0m │\n",
       "├─────────────────────────────────┼────────────────────────┼───────────────┤\n",
       "│ flatten_10 (\u001b[38;5;33mFlatten\u001b[0m)            │ (\u001b[38;5;45mNone\u001b[0m, \u001b[38;5;34m10368\u001b[0m)          │             \u001b[38;5;34m0\u001b[0m │\n",
       "├─────────────────────────────────┼────────────────────────┼───────────────┤\n",
       "│ dense_20 (\u001b[38;5;33mDense\u001b[0m)                │ (\u001b[38;5;45mNone\u001b[0m, \u001b[38;5;34m32\u001b[0m)             │       \u001b[38;5;34m331,808\u001b[0m │\n",
       "├─────────────────────────────────┼────────────────────────┼───────────────┤\n",
       "│ dense_21 (\u001b[38;5;33mDense\u001b[0m)                │ (\u001b[38;5;45mNone\u001b[0m, \u001b[38;5;34m7\u001b[0m)              │           \u001b[38;5;34m231\u001b[0m │\n",
       "└─────────────────────────────────┴────────────────────────┴───────────────┘\n"
      ]
     },
     "metadata": {},
     "output_type": "display_data"
    },
    {
     "data": {
      "text/html": [
       "<pre style=\"white-space:pre;overflow-x:auto;line-height:normal;font-family:Menlo,'DejaVu Sans Mono',consolas,'Courier New',monospace\"><span style=\"font-weight: bold\"> Total params: </span><span style=\"color: #00af00; text-decoration-color: #00af00\">373,831</span> (1.43 MB)\n",
       "</pre>\n"
      ],
      "text/plain": [
       "\u001b[1m Total params: \u001b[0m\u001b[38;5;34m373,831\u001b[0m (1.43 MB)\n"
      ]
     },
     "metadata": {},
     "output_type": "display_data"
    },
    {
     "data": {
      "text/html": [
       "<pre style=\"white-space:pre;overflow-x:auto;line-height:normal;font-family:Menlo,'DejaVu Sans Mono',consolas,'Courier New',monospace\"><span style=\"font-weight: bold\"> Trainable params: </span><span style=\"color: #00af00; text-decoration-color: #00af00\">373,831</span> (1.43 MB)\n",
       "</pre>\n"
      ],
      "text/plain": [
       "\u001b[1m Trainable params: \u001b[0m\u001b[38;5;34m373,831\u001b[0m (1.43 MB)\n"
      ]
     },
     "metadata": {},
     "output_type": "display_data"
    },
    {
     "data": {
      "text/html": [
       "<pre style=\"white-space:pre;overflow-x:auto;line-height:normal;font-family:Menlo,'DejaVu Sans Mono',consolas,'Courier New',monospace\"><span style=\"font-weight: bold\"> Non-trainable params: </span><span style=\"color: #00af00; text-decoration-color: #00af00\">0</span> (0.00 B)\n",
       "</pre>\n"
      ],
      "text/plain": [
       "\u001b[1m Non-trainable params: \u001b[0m\u001b[38;5;34m0\u001b[0m (0.00 B)\n"
      ]
     },
     "metadata": {},
     "output_type": "display_data"
    }
   ],
   "source": [
    "cnn = fct_model.define_model(x_train.shape[1])"
   ]
  },
  {
   "cell_type": "code",
   "execution_count": null,
   "metadata": {},
   "outputs": [
    {
     "name": "stdout",
     "output_type": "stream",
     "text": [
      "Epoch 1/50\n",
      "\u001b[1m17/17\u001b[0m \u001b[32m━━━━━━━━━━━━━━━━━━━━\u001b[0m\u001b[37m\u001b[0m \u001b[1m2s\u001b[0m 39ms/step - accuracy: 0.1881 - loss: 1.9374 - val_accuracy: 0.2222 - val_loss: 1.8893 - learning_rate: 0.0010\n",
      "Epoch 2/50\n",
      "\u001b[1m17/17\u001b[0m \u001b[32m━━━━━━━━━━━━━━━━━━━━\u001b[0m\u001b[37m\u001b[0m \u001b[1m1s\u001b[0m 35ms/step - accuracy: 0.2913 - loss: 1.8413 - val_accuracy: 0.3218 - val_loss: 1.7921 - learning_rate: 0.0010\n",
      "Epoch 3/50\n",
      "\u001b[1m17/17\u001b[0m \u001b[32m━━━━━━━━━━━━━━━━━━━━\u001b[0m\u001b[37m\u001b[0m \u001b[1m1s\u001b[0m 69ms/step - accuracy: 0.3469 - loss: 1.6954 - val_accuracy: 0.3602 - val_loss: 1.6409 - learning_rate: 0.0010\n",
      "Epoch 4/50\n",
      "\u001b[1m17/17\u001b[0m \u001b[32m━━━━━━━━━━━━━━━━━━━━\u001b[0m\u001b[37m\u001b[0m \u001b[1m1s\u001b[0m 65ms/step - accuracy: 0.4044 - loss: 1.5709 - val_accuracy: 0.4215 - val_loss: 1.5358 - learning_rate: 0.0010\n",
      "Epoch 5/50\n",
      "\u001b[1m17/17\u001b[0m \u001b[32m━━━━━━━━━━━━━━━━━━━━\u001b[0m\u001b[37m\u001b[0m \u001b[1m1s\u001b[0m 79ms/step - accuracy: 0.4577 - loss: 1.4161 - val_accuracy: 0.4674 - val_loss: 1.4622 - learning_rate: 0.0010\n",
      "Epoch 6/50\n",
      "\u001b[1m17/17\u001b[0m \u001b[32m━━━━━━━━━━━━━━━━━━━━\u001b[0m\u001b[37m\u001b[0m \u001b[1m1s\u001b[0m 62ms/step - accuracy: 0.5434 - loss: 1.2351 - val_accuracy: 0.4406 - val_loss: 1.4399 - learning_rate: 0.0010\n",
      "Epoch 7/50\n",
      "\u001b[1m17/17\u001b[0m \u001b[32m━━━━━━━━━━━━━━━━━━━━\u001b[0m\u001b[37m\u001b[0m \u001b[1m1s\u001b[0m 62ms/step - accuracy: 0.5893 - loss: 1.1893 - val_accuracy: 0.4981 - val_loss: 1.3717 - learning_rate: 0.0010\n",
      "Epoch 8/50\n",
      "\u001b[1m17/17\u001b[0m \u001b[32m━━━━━━━━━━━━━━━━━━━━\u001b[0m\u001b[37m\u001b[0m \u001b[1m1s\u001b[0m 69ms/step - accuracy: 0.6167 - loss: 1.1015 - val_accuracy: 0.5019 - val_loss: 1.3719 - learning_rate: 0.0010\n",
      "Epoch 9/50\n",
      "\u001b[1m17/17\u001b[0m \u001b[32m━━━━━━━━━━━━━━━━━━━━\u001b[0m\u001b[37m\u001b[0m \u001b[1m1s\u001b[0m 73ms/step - accuracy: 0.6373 - loss: 1.0359 - val_accuracy: 0.5441 - val_loss: 1.3220 - learning_rate: 0.0010\n",
      "Epoch 10/50\n",
      "\u001b[1m17/17\u001b[0m \u001b[32m━━━━━━━━━━━━━━━━━━━━\u001b[0m\u001b[37m\u001b[0m \u001b[1m1s\u001b[0m 88ms/step - accuracy: 0.6559 - loss: 0.9699 - val_accuracy: 0.5402 - val_loss: 1.3002 - learning_rate: 0.0010\n",
      "Epoch 11/50\n",
      "\u001b[1m17/17\u001b[0m \u001b[32m━━━━━━━━━━━━━━━━━━━━\u001b[0m\u001b[37m\u001b[0m \u001b[1m1s\u001b[0m 68ms/step - accuracy: 0.7113 - loss: 0.8401 - val_accuracy: 0.5172 - val_loss: 1.3662 - learning_rate: 0.0010\n",
      "Epoch 12/50\n",
      "\u001b[1m17/17\u001b[0m \u001b[32m━━━━━━━━━━━━━━━━━━━━\u001b[0m\u001b[37m\u001b[0m \u001b[1m1s\u001b[0m 59ms/step - accuracy: 0.7040 - loss: 0.8421 - val_accuracy: 0.5402 - val_loss: 1.2704 - learning_rate: 0.0010\n",
      "Epoch 13/50\n",
      "\u001b[1m17/17\u001b[0m \u001b[32m━━━━━━━━━━━━━━━━━━━━\u001b[0m\u001b[37m\u001b[0m \u001b[1m1s\u001b[0m 76ms/step - accuracy: 0.7332 - loss: 0.7605 - val_accuracy: 0.5517 - val_loss: 1.2397 - learning_rate: 0.0010\n",
      "Epoch 14/50\n",
      "\u001b[1m17/17\u001b[0m \u001b[32m━━━━━━━━━━━━━━━━━━━━\u001b[0m\u001b[37m\u001b[0m \u001b[1m1s\u001b[0m 80ms/step - accuracy: 0.7651 - loss: 0.6837 - val_accuracy: 0.5364 - val_loss: 1.2946 - learning_rate: 0.0010\n",
      "Epoch 15/50\n",
      "\u001b[1m17/17\u001b[0m \u001b[32m━━━━━━━━━━━━━━━━━━━━\u001b[0m\u001b[37m\u001b[0m \u001b[1m1s\u001b[0m 62ms/step - accuracy: 0.7535 - loss: 0.6909 - val_accuracy: 0.5594 - val_loss: 1.2689 - learning_rate: 0.0010\n",
      "Epoch 16/50\n",
      "\u001b[1m17/17\u001b[0m \u001b[32m━━━━━━━━━━━━━━━━━━━━\u001b[0m\u001b[37m\u001b[0m \u001b[1m1s\u001b[0m 66ms/step - accuracy: 0.7989 - loss: 0.6131 - val_accuracy: 0.5594 - val_loss: 1.2804 - learning_rate: 0.0010\n",
      "Epoch 17/50\n",
      "\u001b[1m17/17\u001b[0m \u001b[32m━━━━━━━━━━━━━━━━━━━━\u001b[0m\u001b[37m\u001b[0m \u001b[1m1s\u001b[0m 61ms/step - accuracy: 0.7970 - loss: 0.5600 - val_accuracy: 0.5747 - val_loss: 1.2866 - learning_rate: 0.0010\n",
      "Epoch 18/50\n",
      "\u001b[1m17/17\u001b[0m \u001b[32m━━━━━━━━━━━━━━━━━━━━\u001b[0m\u001b[37m\u001b[0m \u001b[1m1s\u001b[0m 73ms/step - accuracy: 0.8216 - loss: 0.5332 - val_accuracy: 0.5862 - val_loss: 1.2677 - learning_rate: 0.0010\n",
      "Epoch 19/50\n",
      "\u001b[1m17/17\u001b[0m \u001b[32m━━━━━━━━━━━━━━━━━━━━\u001b[0m\u001b[37m\u001b[0m \u001b[1m1s\u001b[0m 87ms/step - accuracy: 0.8354 - loss: 0.4923 - val_accuracy: 0.6015 - val_loss: 1.2672 - learning_rate: 0.0010\n",
      "Epoch 20/50\n",
      "\u001b[1m17/17\u001b[0m \u001b[32m━━━━━━━━━━━━━━━━━━━━\u001b[0m\u001b[37m\u001b[0m \u001b[1m2s\u001b[0m 93ms/step - accuracy: 0.8237 - loss: 0.4858 - val_accuracy: 0.5747 - val_loss: 1.2609 - learning_rate: 0.0010\n",
      "Epoch 21/50\n",
      "\u001b[1m17/17\u001b[0m \u001b[32m━━━━━━━━━━━━━━━━━━━━\u001b[0m\u001b[37m\u001b[0m \u001b[1m1s\u001b[0m 66ms/step - accuracy: 0.8530 - loss: 0.4695 - val_accuracy: 0.6054 - val_loss: 1.3025 - learning_rate: 0.0010\n",
      "Epoch 22/50\n",
      "\u001b[1m17/17\u001b[0m \u001b[32m━━━━━━━━━━━━━━━━━━━━\u001b[0m\u001b[37m\u001b[0m \u001b[1m1s\u001b[0m 63ms/step - accuracy: 0.8831 - loss: 0.3966 - val_accuracy: 0.6015 - val_loss: 1.2822 - learning_rate: 0.0010\n",
      "Epoch 23/50\n",
      "\u001b[1m17/17\u001b[0m \u001b[32m━━━━━━━━━━━━━━━━━━━━\u001b[0m\u001b[37m\u001b[0m \u001b[1m1s\u001b[0m 64ms/step - accuracy: 0.8656 - loss: 0.4166 - val_accuracy: 0.6207 - val_loss: 1.2500 - learning_rate: 0.0010\n",
      "Epoch 24/50\n",
      "\u001b[1m17/17\u001b[0m \u001b[32m━━━━━━━━━━━━━━━━━━━━\u001b[0m\u001b[37m\u001b[0m \u001b[1m1s\u001b[0m 61ms/step - accuracy: 0.8747 - loss: 0.3743 - val_accuracy: 0.6054 - val_loss: 1.2700 - learning_rate: 0.0010\n",
      "Epoch 25/50\n",
      "\u001b[1m17/17\u001b[0m \u001b[32m━━━━━━━━━━━━━━━━━━━━\u001b[0m\u001b[37m\u001b[0m \u001b[1m1s\u001b[0m 75ms/step - accuracy: 0.8604 - loss: 0.3693 - val_accuracy: 0.5632 - val_loss: 1.3598 - learning_rate: 0.0010\n",
      "Epoch 26/50\n",
      "\u001b[1m17/17\u001b[0m \u001b[32m━━━━━━━━━━━━━━━━━━━━\u001b[0m\u001b[37m\u001b[0m \u001b[1m1s\u001b[0m 55ms/step - accuracy: 0.8991 - loss: 0.3392 - val_accuracy: 0.6092 - val_loss: 1.2878 - learning_rate: 0.0010\n",
      "Epoch 27/50\n",
      "\u001b[1m17/17\u001b[0m \u001b[32m━━━━━━━━━━━━━━━━━━━━\u001b[0m\u001b[37m\u001b[0m \u001b[1m1s\u001b[0m 61ms/step - accuracy: 0.8825 - loss: 0.3427 - val_accuracy: 0.6015 - val_loss: 1.2681 - learning_rate: 0.0010\n",
      "Epoch 28/50\n",
      "\u001b[1m17/17\u001b[0m \u001b[32m━━━━━━━━━━━━━━━━━━━━\u001b[0m\u001b[37m\u001b[0m \u001b[1m1s\u001b[0m 60ms/step - accuracy: 0.9047 - loss: 0.3066 - val_accuracy: 0.5977 - val_loss: 1.3567 - learning_rate: 0.0010\n",
      "Epoch 29/50\n",
      "\u001b[1m17/17\u001b[0m \u001b[32m━━━━━━━━━━━━━━━━━━━━\u001b[0m\u001b[37m\u001b[0m \u001b[1m1s\u001b[0m 61ms/step - accuracy: 0.9046 - loss: 0.2938 - val_accuracy: 0.5785 - val_loss: 1.4379 - learning_rate: 0.0010\n",
      "Epoch 30/50\n",
      "\u001b[1m17/17\u001b[0m \u001b[32m━━━━━━━━━━━━━━━━━━━━\u001b[0m\u001b[37m\u001b[0m \u001b[1m1s\u001b[0m 59ms/step - accuracy: 0.8946 - loss: 0.3104 - val_accuracy: 0.6015 - val_loss: 1.4109 - learning_rate: 0.0010\n",
      "Epoch 31/50\n",
      "\u001b[1m17/17\u001b[0m \u001b[32m━━━━━━━━━━━━━━━━━━━━\u001b[0m\u001b[37m\u001b[0m \u001b[1m1s\u001b[0m 67ms/step - accuracy: 0.9101 - loss: 0.3063 - val_accuracy: 0.5977 - val_loss: 1.4065 - learning_rate: 0.0010\n",
      "Epoch 32/50\n",
      "\u001b[1m17/17\u001b[0m \u001b[32m━━━━━━━━━━━━━━━━━━━━\u001b[0m\u001b[37m\u001b[0m \u001b[1m1s\u001b[0m 59ms/step - accuracy: 0.9237 - loss: 0.2292 - val_accuracy: 0.5939 - val_loss: 1.4365 - learning_rate: 0.0010\n",
      "Epoch 33/50\n",
      "\u001b[1m17/17\u001b[0m \u001b[32m━━━━━━━━━━━━━━━━━━━━\u001b[0m\u001b[37m\u001b[0m \u001b[1m1s\u001b[0m 60ms/step - accuracy: 0.9280 - loss: 0.2113 - val_accuracy: 0.5977 - val_loss: 1.4959 - learning_rate: 0.0010\n",
      "Epoch 34/50\n",
      "\u001b[1m17/17\u001b[0m \u001b[32m━━━━━━━━━━━━━━━━━━━━\u001b[0m\u001b[37m\u001b[0m \u001b[1m1s\u001b[0m 67ms/step - accuracy: 0.9186 - loss: 0.2425 - val_accuracy: 0.6015 - val_loss: 1.5327 - learning_rate: 0.0010\n",
      "Epoch 35/50\n",
      "\u001b[1m17/17\u001b[0m \u001b[32m━━━━━━━━━━━━━━━━━━━━\u001b[0m\u001b[37m\u001b[0m \u001b[1m1s\u001b[0m 71ms/step - accuracy: 0.9280 - loss: 0.2009 - val_accuracy: 0.5977 - val_loss: 1.5394 - learning_rate: 0.0010\n",
      "Epoch 36/50\n",
      "\u001b[1m17/17\u001b[0m \u001b[32m━━━━━━━━━━━━━━━━━━━━\u001b[0m\u001b[37m\u001b[0m \u001b[1m1s\u001b[0m 70ms/step - accuracy: 0.9408 - loss: 0.1922 - val_accuracy: 0.6092 - val_loss: 1.4740 - learning_rate: 0.0010\n",
      "Epoch 37/50\n",
      "\u001b[1m17/17\u001b[0m \u001b[32m━━━━━━━━━━━━━━━━━━━━\u001b[0m\u001b[37m\u001b[0m \u001b[1m1s\u001b[0m 79ms/step - accuracy: 0.9334 - loss: 0.1873 - val_accuracy: 0.6284 - val_loss: 1.5457 - learning_rate: 0.0010\n",
      "Epoch 38/50\n",
      "\u001b[1m17/17\u001b[0m \u001b[32m━━━━━━━━━━━━━━━━━━━━\u001b[0m\u001b[37m\u001b[0m \u001b[1m1s\u001b[0m 71ms/step - accuracy: 0.9535 - loss: 0.1430 - val_accuracy: 0.6054 - val_loss: 1.5267 - learning_rate: 0.0010\n",
      "Epoch 39/50\n",
      "\u001b[1m17/17\u001b[0m \u001b[32m━━━━━━━━━━━━━━━━━━━━\u001b[0m\u001b[37m\u001b[0m \u001b[1m1s\u001b[0m 73ms/step - accuracy: 0.9512 - loss: 0.1511 - val_accuracy: 0.5977 - val_loss: 1.4905 - learning_rate: 0.0010\n",
      "Epoch 40/50\n",
      "\u001b[1m17/17\u001b[0m \u001b[32m━━━━━━━━━━━━━━━━━━━━\u001b[0m\u001b[37m\u001b[0m \u001b[1m1s\u001b[0m 64ms/step - accuracy: 0.9378 - loss: 0.1828 - val_accuracy: 0.6322 - val_loss: 1.5968 - learning_rate: 0.0010\n",
      "Epoch 41/50\n",
      "\u001b[1m17/17\u001b[0m \u001b[32m━━━━━━━━━━━━━━━━━━━━\u001b[0m\u001b[37m\u001b[0m \u001b[1m1s\u001b[0m 63ms/step - accuracy: 0.9563 - loss: 0.1340 - val_accuracy: 0.6284 - val_loss: 1.5083 - learning_rate: 4.0000e-04\n",
      "Epoch 42/50\n",
      "\u001b[1m17/17\u001b[0m \u001b[32m━━━━━━━━━━━━━━━━━━━━\u001b[0m\u001b[37m\u001b[0m \u001b[1m1s\u001b[0m 77ms/step - accuracy: 0.9671 - loss: 0.1299 - val_accuracy: 0.6322 - val_loss: 1.5359 - learning_rate: 4.0000e-04\n",
      "Epoch 43/50\n",
      "\u001b[1m17/17\u001b[0m \u001b[32m━━━━━━━━━━━━━━━━━━━━\u001b[0m\u001b[37m\u001b[0m \u001b[1m1s\u001b[0m 57ms/step - accuracy: 0.9658 - loss: 0.1160 - val_accuracy: 0.6322 - val_loss: 1.5345 - learning_rate: 4.0000e-04\n",
      "Epoch 44/50\n",
      "\u001b[1m17/17\u001b[0m \u001b[32m━━━━━━━━━━━━━━━━━━━━\u001b[0m\u001b[37m\u001b[0m \u001b[1m1s\u001b[0m 66ms/step - accuracy: 0.9568 - loss: 0.1190 - val_accuracy: 0.6360 - val_loss: 1.5634 - learning_rate: 4.0000e-04\n",
      "Epoch 45/50\n",
      "\u001b[1m17/17\u001b[0m \u001b[32m━━━━━━━━━━━━━━━━━━━━\u001b[0m\u001b[37m\u001b[0m \u001b[1m1s\u001b[0m 70ms/step - accuracy: 0.9528 - loss: 0.1323 - val_accuracy: 0.6207 - val_loss: 1.5651 - learning_rate: 4.0000e-04\n",
      "Epoch 46/50\n",
      "\u001b[1m17/17\u001b[0m \u001b[32m━━━━━━━━━━━━━━━━━━━━\u001b[0m\u001b[37m\u001b[0m \u001b[1m1s\u001b[0m 81ms/step - accuracy: 0.9684 - loss: 0.0955 - val_accuracy: 0.6207 - val_loss: 1.5628 - learning_rate: 1.6000e-04\n",
      "Epoch 47/50\n",
      "\u001b[1m17/17\u001b[0m \u001b[32m━━━━━━━━━━━━━━━━━━━━\u001b[0m\u001b[37m\u001b[0m \u001b[1m2s\u001b[0m 111ms/step - accuracy: 0.9617 - loss: 0.1209 - val_accuracy: 0.6360 - val_loss: 1.5657 - learning_rate: 1.6000e-04\n",
      "Epoch 48/50\n",
      "\u001b[1m17/17\u001b[0m \u001b[32m━━━━━━━━━━━━━━━━━━━━\u001b[0m\u001b[37m\u001b[0m \u001b[1m1s\u001b[0m 82ms/step - accuracy: 0.9715 - loss: 0.1019 - val_accuracy: 0.6398 - val_loss: 1.5745 - learning_rate: 1.6000e-04\n",
      "Epoch 49/50\n",
      "\u001b[1m17/17\u001b[0m \u001b[32m━━━━━━━━━━━━━━━━━━━━\u001b[0m\u001b[37m\u001b[0m \u001b[1m2s\u001b[0m 90ms/step - accuracy: 0.9713 - loss: 0.1106 - val_accuracy: 0.6245 - val_loss: 1.5600 - learning_rate: 1.6000e-04\n",
      "Epoch 50/50\n",
      "\u001b[1m17/17\u001b[0m \u001b[32m━━━━━━━━━━━━━━━━━━━━\u001b[0m\u001b[37m\u001b[0m \u001b[1m2s\u001b[0m 92ms/step - accuracy: 0.9825 - loss: 0.0932 - val_accuracy: 0.6169 - val_loss: 1.5754 - learning_rate: 1.6000e-04\n"
     ]
    }
   ],
   "source": [
    "model_train, history = fct_model.train_model(x_train, y_train, x_test, y_test, cnn)"
   ]
  },
  {
   "cell_type": "code",
   "execution_count": null,
   "metadata": {},
   "outputs": [
    {
     "name": "stdout",
     "output_type": "stream",
     "text": [
      "\u001b[1m9/9\u001b[0m \u001b[32m━━━━━━━━━━━━━━━━━━━━\u001b[0m\u001b[37m\u001b[0m \u001b[1m0s\u001b[0m 4ms/step - accuracy: 0.6528 - loss: 1.2947  \n",
      "Accuracy of our model on test data :  61.685824394226074 %\n"
     ]
    },
    {
     "data": {
      "image/png": "[encoded data removed]",
      "text/plain": [
       "<Figure size 2000x600 with 2 Axes>"
      ]
     },
     "metadata": {},
     "output_type": "display_data"
    }
   ],
   "source": [
    "fct_model.display_results(model_train, history, x_test, y_test)"
   ]
  },
  {
   "cell_type": "code",
   "execution_count": null,
   "metadata": {},
   "outputs": [
    {
     "name": "stdout",
     "output_type": "stream",
     "text": [
      "\u001b[1m9/9\u001b[0m \u001b[32m━━━━━━━━━━━━━━━━━━━━\u001b[0m\u001b[37m\u001b[0m \u001b[1m0s\u001b[0m 4ms/step \n"
     ]
    }
   ],
   "source": [
    "y_pred, y_test = fct_model.predict_on_test(model_train, encoder, x_test, y_test)"
   ]
  },
  {
   "cell_type": "code",
   "execution_count": 88,
   "metadata": {},
   "outputs": [
    {
     "name": "stdout",
     "output_type": "stream",
     "text": [
      "  Predicted Labels Actual Labels\n",
      "0                S             S\n",
      "1                P             P\n",
      "2                N             N\n",
      "3                N             N\n",
      "4                J             J\n",
      "5                D             N\n",
      "6                T             N\n",
      "7                P             P\n",
      "8                P             P\n",
      "9                D             D\n"
     ]
    }
   ],
   "source": [
    "fct_model.show_predictions(y_pred, y_test)"
   ]
  },
  {
   "cell_type": "code",
   "execution_count": 91,
   "metadata": {},
   "outputs": [
    {
     "data": {
      "image/png": "[encoded data removed]",
      "text/plain": [
       "<Figure size 1200x1000 with 2 Axes>"
      ]
     },
     "metadata": {},
     "output_type": "display_data"
    }
   ],
   "source": [
    "fct_model.show_conf_matrix(y_pred, y_test, encoder)"
   ]
  },
  {
   "cell_type": "code",
   "execution_count": 92,
   "metadata": {},
   "outputs": [
    {
     "name": "stdout",
     "output_type": "stream",
     "text": [
      "              precision    recall  f1-score   support\n",
      "\n",
      "           C       0.69      0.71      0.70        41\n",
      "           D       0.68      0.53      0.59        40\n",
      "           J       0.67      0.49      0.56        37\n",
      "           N       0.55      0.69      0.61        42\n",
      "           P       0.55      0.58      0.56        31\n",
      "           S       0.69      0.68      0.68        37\n",
      "           T       0.54      0.64      0.58        33\n",
      "\n",
      "    accuracy                           0.62       261\n",
      "   macro avg       0.62      0.61      0.61       261\n",
      "weighted avg       0.63      0.62      0.62       261\n",
      "\n"
     ]
    }
   ],
   "source": [
    "from sklearn.metrics import classification_report\n",
    "\n",
    "print(classification_report(y_test, y_pred))"
   ]
  },
  {
   "cell_type": "markdown",
   "metadata": {},
   "source": [
    "Test single audio with saved model"
   ]
  },
  {
   "cell_type": "code",
   "execution_count": 93,
   "metadata": {},
   "outputs": [],
   "source": [
    "import librosa\n",
    "import dill\n",
    "\n",
    "with open(\"../artifacts/extract_features.pkl\", \"rb\") as f:\n",
    "    extract_features_test = dill.load(f)\n",
    "    \n",
    "data, sample_rate = librosa.load(\"../data/raw/OréauFR_01/f/sessd/10a01Da.wav\", duration=4, offset=0.6)\n",
    "test = extract_features_test(data, sample_rate)"
   ]
  },
  {
   "cell_type": "code",
   "execution_count": 94,
   "metadata": {},
   "outputs": [
    {
     "data": {
      "text/plain": [
       "(162,)"
      ]
     },
     "execution_count": 94,
     "metadata": {},
     "output_type": "execute_result"
    }
   ],
   "source": [
    "test.shape"
   ]
  },
  {
   "cell_type": "code",
   "execution_count": 98,
   "metadata": {},
   "outputs": [
    {
     "name": "stdout",
     "output_type": "stream",
     "text": [
      "\u001b[1m1/1\u001b[0m \u001b[32m━━━━━━━━━━━━━━━━━━━━\u001b[0m\u001b[37m\u001b[0m \u001b[1m0s\u001b[0m 166ms/step\n"
     ]
    }
   ],
   "source": [
    "import numpy as np\n",
    "\n",
    "scaled_test = scaler.transform(test.reshape(1, 162))\n",
    "new_test = scaled_test.reshape(1, 162, 1)\n",
    "pred = model_train.predict(new_test)\n",
    "predicted_class_index = np.argmax(pred)"
   ]
  },
  {
   "cell_type": "code",
   "execution_count": 99,
   "metadata": {},
   "outputs": [
    {
     "data": {
      "text/plain": [
       "'D'"
      ]
     },
     "execution_count": 99,
     "metadata": {},
     "output_type": "execute_result"
    }
   ],
   "source": [
    "encoder.inverse_transform(pred)[0][0]"
   ]
  },
  {
   "cell_type": "code",
   "execution_count": 102,
   "metadata": {},
   "outputs": [
    {
     "name": "stdout",
     "output_type": "stream",
     "text": [
      "Epoch 1/50\n",
      "\u001b[1m21/21\u001b[0m \u001b[32m━━━━━━━━━━━━━━━━━━━━\u001b[0m\u001b[37m\u001b[0m \u001b[1m2s\u001b[0m 29ms/step - accuracy: 0.2098 - loss: 1.9137 - learning_rate: 0.0010\n",
      "Epoch 2/50\n",
      "\u001b[1m21/21\u001b[0m \u001b[32m━━━━━━━━━━━━━━━━━━━━\u001b[0m\u001b[37m\u001b[0m \u001b[1m1s\u001b[0m 33ms/step - accuracy: 0.3557 - loss: 1.7409 - learning_rate: 0.0010\n",
      "Epoch 3/50\n",
      "\u001b[1m21/21\u001b[0m \u001b[32m━━━━━━━━━━━━━━━━━━━━\u001b[0m\u001b[37m\u001b[0m \u001b[1m1s\u001b[0m 25ms/step - accuracy: 0.3972 - loss: 1.5730 - learning_rate: 0.0010\n",
      "Epoch 4/50\n",
      "\u001b[1m21/21\u001b[0m \u001b[32m━━━━━━━━━━━━━━━━━━━━\u001b[0m\u001b[37m\u001b[0m \u001b[1m1s\u001b[0m 27ms/step - accuracy: 0.4360 - loss: 1.4735 - learning_rate: 0.0010\n",
      "Epoch 5/50\n",
      "\u001b[1m21/21\u001b[0m \u001b[32m━━━━━━━━━━━━━━━━━━━━\u001b[0m\u001b[37m\u001b[0m \u001b[1m1s\u001b[0m 27ms/step - accuracy: 0.5025 - loss: 1.3735 - learning_rate: 0.0010\n",
      "Epoch 6/50\n",
      "\u001b[1m21/21\u001b[0m \u001b[32m━━━━━━━━━━━━━━━━━━━━\u001b[0m\u001b[37m\u001b[0m \u001b[1m1s\u001b[0m 27ms/step - accuracy: 0.5213 - loss: 1.2678 - learning_rate: 0.0010\n",
      "Epoch 7/50\n",
      "\u001b[1m21/21\u001b[0m \u001b[32m━━━━━━━━━━━━━━━━━━━━\u001b[0m\u001b[37m\u001b[0m \u001b[1m1s\u001b[0m 29ms/step - accuracy: 0.6003 - loss: 1.1123 - learning_rate: 0.0010\n",
      "Epoch 8/50\n",
      "\u001b[1m21/21\u001b[0m \u001b[32m━━━━━━━━━━━━━━━━━━━━\u001b[0m\u001b[37m\u001b[0m \u001b[1m1s\u001b[0m 41ms/step - accuracy: 0.6271 - loss: 1.0649 - learning_rate: 0.0010\n",
      "Epoch 9/50\n",
      "\u001b[1m21/21\u001b[0m \u001b[32m━━━━━━━━━━━━━━━━━━━━\u001b[0m\u001b[37m\u001b[0m \u001b[1m1s\u001b[0m 51ms/step - accuracy: 0.6653 - loss: 0.9540 - learning_rate: 0.0010\n",
      "Epoch 10/50\n",
      "\u001b[1m21/21\u001b[0m \u001b[32m━━━━━━━━━━━━━━━━━━━━\u001b[0m\u001b[37m\u001b[0m \u001b[1m1s\u001b[0m 65ms/step - accuracy: 0.6781 - loss: 0.8928 - learning_rate: 0.0010\n",
      "Epoch 11/50\n",
      "\u001b[1m21/21\u001b[0m \u001b[32m━━━━━━━━━━━━━━━━━━━━\u001b[0m\u001b[37m\u001b[0m \u001b[1m1s\u001b[0m 52ms/step - accuracy: 0.6757 - loss: 0.8799 - learning_rate: 0.0010\n",
      "Epoch 12/50\n",
      "\u001b[1m21/21\u001b[0m \u001b[32m━━━━━━━━━━━━━━━━━━━━\u001b[0m\u001b[37m\u001b[0m \u001b[1m1s\u001b[0m 55ms/step - accuracy: 0.7427 - loss: 0.7441 - learning_rate: 0.0010\n",
      "Epoch 13/50\n",
      "\u001b[1m21/21\u001b[0m \u001b[32m━━━━━━━━━━━━━━━━━━━━\u001b[0m\u001b[37m\u001b[0m \u001b[1m1s\u001b[0m 52ms/step - accuracy: 0.7471 - loss: 0.7318 - learning_rate: 0.0010\n",
      "Epoch 14/50\n",
      "\u001b[1m21/21\u001b[0m \u001b[32m━━━━━━━━━━━━━━━━━━━━\u001b[0m\u001b[37m\u001b[0m \u001b[1m1s\u001b[0m 51ms/step - accuracy: 0.7666 - loss: 0.7028 - learning_rate: 0.0010\n",
      "Epoch 15/50\n",
      "\u001b[1m21/21\u001b[0m \u001b[32m━━━━━━━━━━━━━━━━━━━━\u001b[0m\u001b[37m\u001b[0m \u001b[1m1s\u001b[0m 65ms/step - accuracy: 0.7934 - loss: 0.6311 - learning_rate: 0.0010\n",
      "Epoch 16/50\n",
      "\u001b[1m21/21\u001b[0m \u001b[32m━━━━━━━━━━━━━━━━━━━━\u001b[0m\u001b[37m\u001b[0m \u001b[1m1s\u001b[0m 52ms/step - accuracy: 0.7913 - loss: 0.5887 - learning_rate: 0.0010\n",
      "Epoch 17/50\n",
      "\u001b[1m21/21\u001b[0m \u001b[32m━━━━━━━━━━━━━━━━━━━━\u001b[0m\u001b[37m\u001b[0m \u001b[1m1s\u001b[0m 48ms/step - accuracy: 0.8195 - loss: 0.5447 - learning_rate: 0.0010\n",
      "Epoch 18/50\n",
      "\u001b[1m21/21\u001b[0m \u001b[32m━━━━━━━━━━━━━━━━━━━━\u001b[0m\u001b[37m\u001b[0m \u001b[1m1s\u001b[0m 61ms/step - accuracy: 0.8326 - loss: 0.5065 - learning_rate: 0.0010\n",
      "Epoch 19/50\n",
      "\u001b[1m21/21\u001b[0m \u001b[32m━━━━━━━━━━━━━━━━━━━━\u001b[0m\u001b[37m\u001b[0m \u001b[1m1s\u001b[0m 51ms/step - accuracy: 0.8285 - loss: 0.5198 - learning_rate: 0.0010\n",
      "Epoch 20/50\n",
      "\u001b[1m21/21\u001b[0m \u001b[32m━━━━━━━━━━━━━━━━━━━━\u001b[0m\u001b[37m\u001b[0m \u001b[1m1s\u001b[0m 59ms/step - accuracy: 0.8440 - loss: 0.4587 - learning_rate: 0.0010\n",
      "Epoch 21/50\n",
      "\u001b[1m21/21\u001b[0m \u001b[32m━━━━━━━━━━━━━━━━━━━━\u001b[0m\u001b[37m\u001b[0m \u001b[1m1s\u001b[0m 54ms/step - accuracy: 0.8568 - loss: 0.4308 - learning_rate: 0.0010\n",
      "Epoch 22/50\n",
      "\u001b[1m21/21\u001b[0m \u001b[32m━━━━━━━━━━━━━━━━━━━━\u001b[0m\u001b[37m\u001b[0m \u001b[1m1s\u001b[0m 55ms/step - accuracy: 0.8692 - loss: 0.3879 - learning_rate: 0.0010\n",
      "Epoch 23/50\n",
      "\u001b[1m21/21\u001b[0m \u001b[32m━━━━━━━━━━━━━━━━━━━━\u001b[0m\u001b[37m\u001b[0m \u001b[1m1s\u001b[0m 50ms/step - accuracy: 0.8807 - loss: 0.4161 - learning_rate: 0.0010\n",
      "Epoch 24/50\n",
      "\u001b[1m21/21\u001b[0m \u001b[32m━━━━━━━━━━━━━━━━━━━━\u001b[0m\u001b[37m\u001b[0m \u001b[1m1s\u001b[0m 51ms/step - accuracy: 0.8792 - loss: 0.3697 - learning_rate: 0.0010\n",
      "Epoch 25/50\n",
      "\u001b[1m21/21\u001b[0m \u001b[32m━━━━━━━━━━━━━━━━━━━━\u001b[0m\u001b[37m\u001b[0m \u001b[1m2s\u001b[0m 75ms/step - accuracy: 0.8752 - loss: 0.3851 - learning_rate: 0.0010\n",
      "Epoch 26/50\n",
      "\u001b[1m21/21\u001b[0m \u001b[32m━━━━━━━━━━━━━━━━━━━━\u001b[0m\u001b[37m\u001b[0m \u001b[1m1s\u001b[0m 64ms/step - accuracy: 0.8804 - loss: 0.3373 - learning_rate: 0.0010\n",
      "Epoch 27/50\n",
      "\u001b[1m21/21\u001b[0m \u001b[32m━━━━━━━━━━━━━━━━━━━━\u001b[0m\u001b[37m\u001b[0m \u001b[1m1s\u001b[0m 52ms/step - accuracy: 0.8773 - loss: 0.3712 - learning_rate: 0.0010\n",
      "Epoch 28/50\n",
      "\u001b[1m21/21\u001b[0m \u001b[32m━━━━━━━━━━━━━━━━━━━━\u001b[0m\u001b[37m\u001b[0m \u001b[1m1s\u001b[0m 53ms/step - accuracy: 0.8623 - loss: 0.3640 - learning_rate: 0.0010\n",
      "Epoch 29/50\n",
      "\u001b[1m21/21\u001b[0m \u001b[32m━━━━━━━━━━━━━━━━━━━━\u001b[0m\u001b[37m\u001b[0m \u001b[1m1s\u001b[0m 63ms/step - accuracy: 0.8875 - loss: 0.2888 - learning_rate: 0.0010\n",
      "Epoch 30/50\n",
      "\u001b[1m21/21\u001b[0m \u001b[32m━━━━━━━━━━━━━━━━━━━━\u001b[0m\u001b[37m\u001b[0m \u001b[1m1s\u001b[0m 54ms/step - accuracy: 0.8900 - loss: 0.2856 - learning_rate: 0.0010\n",
      "Epoch 31/50\n",
      "\u001b[1m21/21\u001b[0m \u001b[32m━━━━━━━━━━━━━━━━━━━━\u001b[0m\u001b[37m\u001b[0m \u001b[1m1s\u001b[0m 52ms/step - accuracy: 0.9328 - loss: 0.2363 - learning_rate: 0.0010\n",
      "Epoch 32/50\n",
      "\u001b[1m21/21\u001b[0m \u001b[32m━━━━━━━━━━━━━━━━━━━━\u001b[0m\u001b[37m\u001b[0m \u001b[1m1s\u001b[0m 51ms/step - accuracy: 0.9025 - loss: 0.2682 - learning_rate: 0.0010\n",
      "Epoch 33/50\n",
      "\u001b[1m21/21\u001b[0m \u001b[32m━━━━━━━━━━━━━━━━━━━━\u001b[0m\u001b[37m\u001b[0m \u001b[1m1s\u001b[0m 53ms/step - accuracy: 0.9204 - loss: 0.2476 - learning_rate: 0.0010\n",
      "Epoch 34/50\n",
      "\u001b[1m21/21\u001b[0m \u001b[32m━━━━━━━━━━━━━━━━━━━━\u001b[0m\u001b[37m\u001b[0m \u001b[1m1s\u001b[0m 55ms/step - accuracy: 0.9314 - loss: 0.2202 - learning_rate: 4.0000e-04\n",
      "Epoch 35/50\n",
      "\u001b[1m21/21\u001b[0m \u001b[32m━━━━━━━━━━━━━━━━━━━━\u001b[0m\u001b[37m\u001b[0m \u001b[1m2s\u001b[0m 86ms/step - accuracy: 0.9338 - loss: 0.2110 - learning_rate: 4.0000e-04\n",
      "Epoch 36/50\n",
      "\u001b[1m21/21\u001b[0m \u001b[32m━━━━━━━━━━━━━━━━━━━━\u001b[0m\u001b[37m\u001b[0m \u001b[1m1s\u001b[0m 61ms/step - accuracy: 0.9345 - loss: 0.1963 - learning_rate: 4.0000e-04\n",
      "Epoch 37/50\n",
      "\u001b[1m21/21\u001b[0m \u001b[32m━━━━━━━━━━━━━━━━━━━━\u001b[0m\u001b[37m\u001b[0m \u001b[1m1s\u001b[0m 68ms/step - accuracy: 0.9487 - loss: 0.1831 - learning_rate: 4.0000e-04\n",
      "Epoch 38/50\n",
      "\u001b[1m21/21\u001b[0m \u001b[32m━━━━━━━━━━━━━━━━━━━━\u001b[0m\u001b[37m\u001b[0m \u001b[1m1s\u001b[0m 67ms/step - accuracy: 0.9442 - loss: 0.1703 - learning_rate: 4.0000e-04\n",
      "Epoch 39/50\n",
      "\u001b[1m21/21\u001b[0m \u001b[32m━━━━━━━━━━━━━━━━━━━━\u001b[0m\u001b[37m\u001b[0m \u001b[1m1s\u001b[0m 54ms/step - accuracy: 0.9489 - loss: 0.1665 - learning_rate: 4.0000e-04\n",
      "Epoch 40/50\n",
      "\u001b[1m21/21\u001b[0m \u001b[32m━━━━━━━━━━━━━━━━━━━━\u001b[0m\u001b[37m\u001b[0m \u001b[1m1s\u001b[0m 58ms/step - accuracy: 0.9519 - loss: 0.1519 - learning_rate: 4.0000e-04\n",
      "Epoch 41/50\n",
      "\u001b[1m21/21\u001b[0m \u001b[32m━━━━━━━━━━━━━━━━━━━━\u001b[0m\u001b[37m\u001b[0m \u001b[1m1s\u001b[0m 51ms/step - accuracy: 0.9393 - loss: 0.1649 - learning_rate: 4.0000e-04\n",
      "Epoch 42/50\n",
      "\u001b[1m21/21\u001b[0m \u001b[32m━━━━━━━━━━━━━━━━━━━━\u001b[0m\u001b[37m\u001b[0m \u001b[1m1s\u001b[0m 48ms/step - accuracy: 0.9582 - loss: 0.1478 - learning_rate: 4.0000e-04\n",
      "Epoch 43/50\n",
      "\u001b[1m21/21\u001b[0m \u001b[32m━━━━━━━━━━━━━━━━━━━━\u001b[0m\u001b[37m\u001b[0m \u001b[1m1s\u001b[0m 52ms/step - accuracy: 0.9534 - loss: 0.1495 - learning_rate: 4.0000e-04\n",
      "Epoch 44/50\n",
      "\u001b[1m21/21\u001b[0m \u001b[32m━━━━━━━━━━━━━━━━━━━━\u001b[0m\u001b[37m\u001b[0m \u001b[1m1s\u001b[0m 51ms/step - accuracy: 0.9492 - loss: 0.1480 - learning_rate: 4.0000e-04\n",
      "Epoch 45/50\n",
      "\u001b[1m21/21\u001b[0m \u001b[32m━━━━━━━━━━━━━━━━━━━━\u001b[0m\u001b[37m\u001b[0m \u001b[1m1s\u001b[0m 50ms/step - accuracy: 0.9525 - loss: 0.1588 - learning_rate: 4.0000e-04\n",
      "Epoch 46/50\n",
      "\u001b[1m21/21\u001b[0m \u001b[32m━━━━━━━━━━━━━━━━━━━━\u001b[0m\u001b[37m\u001b[0m \u001b[1m1s\u001b[0m 64ms/step - accuracy: 0.9563 - loss: 0.1588 - learning_rate: 4.0000e-04\n",
      "Epoch 47/50\n",
      "\u001b[1m21/21\u001b[0m \u001b[32m━━━━━━━━━━━━━━━━━━━━\u001b[0m\u001b[37m\u001b[0m \u001b[1m1s\u001b[0m 56ms/step - accuracy: 0.9538 - loss: 0.1467 - learning_rate: 1.6000e-04\n",
      "Epoch 48/50\n",
      "\u001b[1m21/21\u001b[0m \u001b[32m━━━━━━━━━━━━━━━━━━━━\u001b[0m\u001b[37m\u001b[0m \u001b[1m2s\u001b[0m 80ms/step - accuracy: 0.9546 - loss: 0.1297 - learning_rate: 1.6000e-04\n",
      "Epoch 49/50\n",
      "\u001b[1m21/21\u001b[0m \u001b[32m━━━━━━━━━━━━━━━━━━━━\u001b[0m\u001b[37m\u001b[0m \u001b[1m2s\u001b[0m 78ms/step - accuracy: 0.9543 - loss: 0.1343 - learning_rate: 1.6000e-04\n",
      "Epoch 50/50\n",
      "\u001b[1m21/21\u001b[0m \u001b[32m━━━━━━━━━━━━━━━━━━━━\u001b[0m\u001b[37m\u001b[0m \u001b[1m2s\u001b[0m 74ms/step - accuracy: 0.9688 - loss: 0.1192 - learning_rate: 1.6000e-04\n"
     ]
    }
   ],
   "source": [
    "#test de la fonction train_save_model\n",
    "cnn2, history2 = fct_model.train_save_model(\"../data/ref_data.csv\", \"../artifacts\")"
   ]
  },
  {
   "cell_type": "code",
   "execution_count": 103,
   "metadata": {},
   "outputs": [],
   "source": [
    "with open(\"../artifacts/extract_features.pkl\", \"rb\") as f:\n",
    "    extract_features_test = dill.load(f)\n",
    "    \n",
    "data, sample_rate = librosa.load(\"../data/raw/OréauFR_01/m/sessj/07a01Ja.wav\", duration=2.5, offset=0.6)\n",
    "test = extract_features_test(data, sample_rate)"
   ]
  },
  {
   "cell_type": "code",
   "execution_count": 105,
   "metadata": {},
   "outputs": [
    {
     "name": "stdout",
     "output_type": "stream",
     "text": [
      "\u001b[1m1/1\u001b[0m \u001b[32m━━━━━━━━━━━━━━━━━━━━\u001b[0m\u001b[37m\u001b[0m \u001b[1m0s\u001b[0m 187ms/step\n"
     ]
    }
   ],
   "source": [
    "scaled_test = scaler.transform(test.reshape(1, 162))\n",
    "new_test = scaled_test.reshape(1, 162, 1)\n",
    "pred = model_train.predict(new_test)\n",
    "predicted_class_index = np.argmax(pred)"
   ]
  },
  {
   "cell_type": "code",
   "execution_count": 106,
   "metadata": {},
   "outputs": [
    {
     "data": {
      "text/plain": [
       "'J'"
      ]
     },
     "execution_count": 106,
     "metadata": {},
     "output_type": "execute_result"
    }
   ],
   "source": [
    "encoder.inverse_transform(pred)[0][0]"
   ]
  },
  {
   "cell_type": "code",
   "execution_count": 108,
   "metadata": {},
   "outputs": [
    {
     "name": "stdout",
     "output_type": "stream",
     "text": [
      "\u001b[1m1/1\u001b[0m \u001b[32m━━━━━━━━━━━━━━━━━━━━\u001b[0m\u001b[37m\u001b[0m \u001b[1m0s\u001b[0m 170ms/step\n"
     ]
    }
   ],
   "source": [
    "prediction = fct_model.predict_on_audio(model_train, encoder, scaler, data, sample_rate)"
   ]
  },
  {
   "cell_type": "code",
   "execution_count": 109,
   "metadata": {},
   "outputs": [
    {
     "data": {
      "text/plain": [
       "{'prediction': 'joy'}"
      ]
     },
     "execution_count": 109,
     "metadata": {},
     "output_type": "execute_result"
    }
   ],
   "source": [
    "prediction"
   ]
  }
 ],
 "metadata": {
  "kernelspec": {
   "display_name": "Python 3",
   "language": "python",
   "name": "python3"
  },
  "language_info": {
   "codemirror_mode": {
    "name": "ipython",
    "version": 3
   },
   "file_extension": ".py",
   "mimetype": "text/x-python",
   "name": "python",
   "nbconvert_exporter": "python",
   "pygments_lexer": "ipython3",
   "version": "3.12.5"
  }
 },
 "nbformat": 4,
 "nbformat_minor": 2
}
