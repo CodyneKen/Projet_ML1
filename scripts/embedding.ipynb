{
 "cells": [
  {
   "cell_type": "markdown",
   "metadata": {},
   "source": [
    "Librairies pour embedding\n",
    "\n",
    "Librosa\n",
    "PyAudio"
   ]
  }
 ],
 "metadata": {
  "language_info": {
   "name": "python"
  }
 },
 "nbformat": 4,
 "nbformat_minor": 2
}
