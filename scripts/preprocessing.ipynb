{
 "cells": [
  {
   "cell_type": "markdown",
   "metadata": {},
   "source": [
    "# Extract info from filename and store it in a csv file."
   ]
  },
  {
   "cell_type": "code",
   "execution_count": 1,
   "metadata": {},
   "outputs": [],
   "source": [
    "import os"
   ]
  },
  {
   "cell_type": "code",
   "execution_count": 4,
   "metadata": {},
   "outputs": [],
   "source": [
    "path = '../data/raw/OréauFR_02/'"
   ]
  },
  {
   "cell_type": "code",
   "execution_count": 5,
   "metadata": {},
   "outputs": [],
   "source": [
    "import pandas as pd\n",
    "\n",
    "genders = []\n",
    "paths = []\n",
    "ids_pers = []\n",
    "emotions = []\n",
    "\n",
    "for elem in os.listdir(path):\n",
    "    if os.path.isdir(path + elem):\n",
    "        gender = elem.upper()\n",
    "        new_path = path+elem+\"/\"\n",
    "        for dir in os.listdir(new_path):\n",
    "            if os.path.isdir(new_path+ dir):\n",
    "                emotion = dir[-1:].upper()\n",
    "                scd_new_path = new_path+ dir + \"/\"\n",
    "                for file in os.listdir(scd_new_path):\n",
    "                    file_path = scd_new_path + file\n",
    "                    paths.append(file_path)\n",
    "                    id_pers = file[0:2]\n",
    "                    ids_pers.append(id_pers)\n",
    "                    genders.append(gender)\n",
    "                    emotions.append(emotion)\n",
    "\n",
    "df = pd.DataFrame({\n",
    "    'Genre' : genders,\n",
    "    'Identifiant' : ids_pers,\n",
    "    'Emotion' : emotions,\n",
    "    'Fichier' : paths\n",
    "})         \n"
   ]
  },
  {
   "cell_type": "code",
   "execution_count": 6,
   "metadata": {},
   "outputs": [
    {
     "data": {
      "text/html": [
       "<div>\n",
       "<style scoped>\n",
       "    .dataframe tbody tr th:only-of-type {\n",
       "        vertical-align: middle;\n",
       "    }\n",
       "\n",
       "    .dataframe tbody tr th {\n",
       "        vertical-align: top;\n",
       "    }\n",
       "\n",
       "    .dataframe thead th {\n",
       "        text-align: right;\n",
       "    }\n",
       "</style>\n",
       "<table border=\"1\" class=\"dataframe\">\n",
       "  <thead>\n",
       "    <tr style=\"text-align: right;\">\n",
       "      <th></th>\n",
       "      <th>Genre</th>\n",
       "      <th>Identifiant</th>\n",
       "      <th>Emotion</th>\n",
       "      <th>Fichier</th>\n",
       "    </tr>\n",
       "  </thead>\n",
       "  <tbody>\n",
       "    <tr>\n",
       "      <th>0</th>\n",
       "      <td>F</td>\n",
       "      <td>37</td>\n",
       "      <td>N</td>\n",
       "      <td>../data/raw/OréauFR_02/f/sessn/37a05Na.wav</td>\n",
       "    </tr>\n",
       "    <tr>\n",
       "      <th>1</th>\n",
       "      <td>F</td>\n",
       "      <td>13</td>\n",
       "      <td>N</td>\n",
       "      <td>../data/raw/OréauFR_02/f/sessn/13a06Na.wav</td>\n",
       "    </tr>\n",
       "    <tr>\n",
       "      <th>2</th>\n",
       "      <td>F</td>\n",
       "      <td>42</td>\n",
       "      <td>N</td>\n",
       "      <td>../data/raw/OréauFR_02/f/sessn/42a11Na.wav</td>\n",
       "    </tr>\n",
       "    <tr>\n",
       "      <th>3</th>\n",
       "      <td>F</td>\n",
       "      <td>21</td>\n",
       "      <td>N</td>\n",
       "      <td>../data/raw/OréauFR_02/f/sessn/21a01Na.wav</td>\n",
       "    </tr>\n",
       "    <tr>\n",
       "      <th>4</th>\n",
       "      <td>F</td>\n",
       "      <td>37</td>\n",
       "      <td>N</td>\n",
       "      <td>../data/raw/OréauFR_02/f/sessn/37a06Na.wav</td>\n",
       "    </tr>\n",
       "    <tr>\n",
       "      <th>...</th>\n",
       "      <td>...</td>\n",
       "      <td>...</td>\n",
       "      <td>...</td>\n",
       "      <td>...</td>\n",
       "    </tr>\n",
       "    <tr>\n",
       "      <th>429</th>\n",
       "      <td>M</td>\n",
       "      <td>19</td>\n",
       "      <td>P</td>\n",
       "      <td>../data/raw/OréauFR_02/m/sessp/19a09Pa.wav</td>\n",
       "    </tr>\n",
       "    <tr>\n",
       "      <th>430</th>\n",
       "      <td>M</td>\n",
       "      <td>07</td>\n",
       "      <td>P</td>\n",
       "      <td>../data/raw/OréauFR_02/m/sessp/07a02Pa.wav</td>\n",
       "    </tr>\n",
       "    <tr>\n",
       "      <th>431</th>\n",
       "      <td>M</td>\n",
       "      <td>25</td>\n",
       "      <td>P</td>\n",
       "      <td>../data/raw/OréauFR_02/m/sessp/25a06Pa.wav</td>\n",
       "    </tr>\n",
       "    <tr>\n",
       "      <th>432</th>\n",
       "      <td>M</td>\n",
       "      <td>19</td>\n",
       "      <td>P</td>\n",
       "      <td>../data/raw/OréauFR_02/m/sessp/19a10Pa.wav</td>\n",
       "    </tr>\n",
       "    <tr>\n",
       "      <th>433</th>\n",
       "      <td>M</td>\n",
       "      <td>41</td>\n",
       "      <td>P</td>\n",
       "      <td>../data/raw/OréauFR_02/m/sessp/41a08Pa.wav</td>\n",
       "    </tr>\n",
       "  </tbody>\n",
       "</table>\n",
       "<p>434 rows × 4 columns</p>\n",
       "</div>"
      ],
      "text/plain": [
       "    Genre Identifiant Emotion                                     Fichier\n",
       "0       F          37       N  ../data/raw/OréauFR_02/f/sessn/37a05Na.wav\n",
       "1       F          13       N  ../data/raw/OréauFR_02/f/sessn/13a06Na.wav\n",
       "2       F          42       N  ../data/raw/OréauFR_02/f/sessn/42a11Na.wav\n",
       "3       F          21       N  ../data/raw/OréauFR_02/f/sessn/21a01Na.wav\n",
       "4       F          37       N  ../data/raw/OréauFR_02/f/sessn/37a06Na.wav\n",
       "..    ...         ...     ...                                         ...\n",
       "429     M          19       P  ../data/raw/OréauFR_02/m/sessp/19a09Pa.wav\n",
       "430     M          07       P  ../data/raw/OréauFR_02/m/sessp/07a02Pa.wav\n",
       "431     M          25       P  ../data/raw/OréauFR_02/m/sessp/25a06Pa.wav\n",
       "432     M          19       P  ../data/raw/OréauFR_02/m/sessp/19a10Pa.wav\n",
       "433     M          41       P  ../data/raw/OréauFR_02/m/sessp/41a08Pa.wav\n",
       "\n",
       "[434 rows x 4 columns]"
      ]
     },
     "execution_count": 6,
     "metadata": {},
     "output_type": "execute_result"
    }
   ],
   "source": [
    "df"
   ]
  },
  {
   "cell_type": "code",
   "execution_count": 7,
   "metadata": {},
   "outputs": [],
   "source": [
    "df.to_csv('../data/file_paths.csv')"
   ]
  }
 ],
 "metadata": {
  "kernelspec": {
   "display_name": "base",
   "language": "python",
   "name": "python3"
  },
  "language_info": {
   "codemirror_mode": {
    "name": "ipython",
    "version": 3
   },
   "file_extension": ".py",
   "mimetype": "text/x-python",
   "name": "python",
   "nbconvert_exporter": "python",
   "pygments_lexer": "ipython3",
   "version": "3.11.8"
  }
 },
 "nbformat": 4,
 "nbformat_minor": 2
}
