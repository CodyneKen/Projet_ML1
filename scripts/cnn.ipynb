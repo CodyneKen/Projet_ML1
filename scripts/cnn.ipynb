{
 "cells": [
  {
   "cell_type": "code",
   "execution_count": 6,
   "metadata": {},
   "outputs": [
    {
     "data": {
      "text/html": [
       "<div>\n",
       "<style scoped>\n",
       "    .dataframe tbody tr th:only-of-type {\n",
       "        vertical-align: middle;\n",
       "    }\n",
       "\n",
       "    .dataframe tbody tr th {\n",
       "        vertical-align: top;\n",
       "    }\n",
       "\n",
       "    .dataframe thead th {\n",
       "        text-align: right;\n",
       "    }\n",
       "</style>\n",
       "<table border=\"1\" class=\"dataframe\">\n",
       "  <thead>\n",
       "    <tr style=\"text-align: right;\">\n",
       "      <th></th>\n",
       "      <th>0</th>\n",
       "      <th>1</th>\n",
       "      <th>2</th>\n",
       "      <th>3</th>\n",
       "      <th>4</th>\n",
       "      <th>5</th>\n",
       "      <th>6</th>\n",
       "      <th>7</th>\n",
       "      <th>8</th>\n",
       "      <th>9</th>\n",
       "      <th>...</th>\n",
       "      <th>153</th>\n",
       "      <th>154</th>\n",
       "      <th>155</th>\n",
       "      <th>156</th>\n",
       "      <th>157</th>\n",
       "      <th>158</th>\n",
       "      <th>159</th>\n",
       "      <th>160</th>\n",
       "      <th>161</th>\n",
       "      <th>target</th>\n",
       "    </tr>\n",
       "  </thead>\n",
       "  <tbody>\n",
       "    <tr>\n",
       "      <th>0</th>\n",
       "      <td>0.035383</td>\n",
       "      <td>0.682562</td>\n",
       "      <td>0.631392</td>\n",
       "      <td>0.604122</td>\n",
       "      <td>0.593008</td>\n",
       "      <td>0.606561</td>\n",
       "      <td>0.541665</td>\n",
       "      <td>0.490245</td>\n",
       "      <td>0.541293</td>\n",
       "      <td>0.602763</td>\n",
       "      <td>...</td>\n",
       "      <td>0.000008</td>\n",
       "      <td>0.000010</td>\n",
       "      <td>0.000016</td>\n",
       "      <td>0.000037</td>\n",
       "      <td>0.000045</td>\n",
       "      <td>0.000034</td>\n",
       "      <td>0.000016</td>\n",
       "      <td>0.000007</td>\n",
       "      <td>7.018234e-07</td>\n",
       "      <td>N</td>\n",
       "    </tr>\n",
       "    <tr>\n",
       "      <th>1</th>\n",
       "      <td>0.171621</td>\n",
       "      <td>0.773267</td>\n",
       "      <td>0.720554</td>\n",
       "      <td>0.698526</td>\n",
       "      <td>0.675677</td>\n",
       "      <td>0.649336</td>\n",
       "      <td>0.561003</td>\n",
       "      <td>0.566162</td>\n",
       "      <td>0.627939</td>\n",
       "      <td>0.706442</td>\n",
       "      <td>...</td>\n",
       "      <td>0.000611</td>\n",
       "      <td>0.000619</td>\n",
       "      <td>0.000651</td>\n",
       "      <td>0.000671</td>\n",
       "      <td>0.000714</td>\n",
       "      <td>0.000662</td>\n",
       "      <td>0.000632</td>\n",
       "      <td>0.000636</td>\n",
       "      <td>6.285412e-04</td>\n",
       "      <td>N</td>\n",
       "    </tr>\n",
       "    <tr>\n",
       "      <th>2</th>\n",
       "      <td>0.036989</td>\n",
       "      <td>0.581158</td>\n",
       "      <td>0.648372</td>\n",
       "      <td>0.665474</td>\n",
       "      <td>0.574450</td>\n",
       "      <td>0.527603</td>\n",
       "      <td>0.569063</td>\n",
       "      <td>0.568006</td>\n",
       "      <td>0.440939</td>\n",
       "      <td>0.413963</td>\n",
       "      <td>...</td>\n",
       "      <td>0.000005</td>\n",
       "      <td>0.000005</td>\n",
       "      <td>0.000005</td>\n",
       "      <td>0.000002</td>\n",
       "      <td>0.000001</td>\n",
       "      <td>0.000001</td>\n",
       "      <td>0.000002</td>\n",
       "      <td>0.000002</td>\n",
       "      <td>3.452211e-07</td>\n",
       "      <td>N</td>\n",
       "    </tr>\n",
       "    <tr>\n",
       "      <th>3</th>\n",
       "      <td>0.069629</td>\n",
       "      <td>0.589378</td>\n",
       "      <td>0.541421</td>\n",
       "      <td>0.541959</td>\n",
       "      <td>0.586754</td>\n",
       "      <td>0.491672</td>\n",
       "      <td>0.464231</td>\n",
       "      <td>0.533424</td>\n",
       "      <td>0.623905</td>\n",
       "      <td>0.748939</td>\n",
       "      <td>...</td>\n",
       "      <td>0.000565</td>\n",
       "      <td>0.000386</td>\n",
       "      <td>0.000424</td>\n",
       "      <td>0.000616</td>\n",
       "      <td>0.000660</td>\n",
       "      <td>0.000487</td>\n",
       "      <td>0.000254</td>\n",
       "      <td>0.000090</td>\n",
       "      <td>5.960710e-06</td>\n",
       "      <td>N</td>\n",
       "    </tr>\n",
       "    <tr>\n",
       "      <th>4</th>\n",
       "      <td>0.170729</td>\n",
       "      <td>0.650319</td>\n",
       "      <td>0.608939</td>\n",
       "      <td>0.607158</td>\n",
       "      <td>0.633005</td>\n",
       "      <td>0.584595</td>\n",
       "      <td>0.527609</td>\n",
       "      <td>0.540251</td>\n",
       "      <td>0.621838</td>\n",
       "      <td>0.760092</td>\n",
       "      <td>...</td>\n",
       "      <td>0.000643</td>\n",
       "      <td>0.000473</td>\n",
       "      <td>0.000515</td>\n",
       "      <td>0.000710</td>\n",
       "      <td>0.000755</td>\n",
       "      <td>0.000571</td>\n",
       "      <td>0.000324</td>\n",
       "      <td>0.000174</td>\n",
       "      <td>8.189615e-05</td>\n",
       "      <td>N</td>\n",
       "    </tr>\n",
       "    <tr>\n",
       "      <th>...</th>\n",
       "      <td>...</td>\n",
       "      <td>...</td>\n",
       "      <td>...</td>\n",
       "      <td>...</td>\n",
       "      <td>...</td>\n",
       "      <td>...</td>\n",
       "      <td>...</td>\n",
       "      <td>...</td>\n",
       "      <td>...</td>\n",
       "      <td>...</td>\n",
       "      <td>...</td>\n",
       "      <td>...</td>\n",
       "      <td>...</td>\n",
       "      <td>...</td>\n",
       "      <td>...</td>\n",
       "      <td>...</td>\n",
       "      <td>...</td>\n",
       "      <td>...</td>\n",
       "      <td>...</td>\n",
       "      <td>...</td>\n",
       "      <td>...</td>\n",
       "    </tr>\n",
       "    <tr>\n",
       "      <th>1297</th>\n",
       "      <td>0.177409</td>\n",
       "      <td>0.685879</td>\n",
       "      <td>0.688923</td>\n",
       "      <td>0.692181</td>\n",
       "      <td>0.695660</td>\n",
       "      <td>0.732018</td>\n",
       "      <td>0.726838</td>\n",
       "      <td>0.699215</td>\n",
       "      <td>0.664477</td>\n",
       "      <td>0.703567</td>\n",
       "      <td>...</td>\n",
       "      <td>0.003476</td>\n",
       "      <td>0.004130</td>\n",
       "      <td>0.003975</td>\n",
       "      <td>0.003647</td>\n",
       "      <td>0.003759</td>\n",
       "      <td>0.003958</td>\n",
       "      <td>0.003687</td>\n",
       "      <td>0.002704</td>\n",
       "      <td>2.190249e-03</td>\n",
       "      <td>P</td>\n",
       "    </tr>\n",
       "    <tr>\n",
       "      <th>1298</th>\n",
       "      <td>0.060417</td>\n",
       "      <td>0.741477</td>\n",
       "      <td>0.846064</td>\n",
       "      <td>0.677123</td>\n",
       "      <td>0.540445</td>\n",
       "      <td>0.546407</td>\n",
       "      <td>0.503164</td>\n",
       "      <td>0.497387</td>\n",
       "      <td>0.624307</td>\n",
       "      <td>0.665305</td>\n",
       "      <td>...</td>\n",
       "      <td>0.000683</td>\n",
       "      <td>0.000667</td>\n",
       "      <td>0.000452</td>\n",
       "      <td>0.000225</td>\n",
       "      <td>0.000215</td>\n",
       "      <td>0.000398</td>\n",
       "      <td>0.000448</td>\n",
       "      <td>0.000251</td>\n",
       "      <td>1.651544e-05</td>\n",
       "      <td>P</td>\n",
       "    </tr>\n",
       "    <tr>\n",
       "      <th>1299</th>\n",
       "      <td>0.061669</td>\n",
       "      <td>0.701292</td>\n",
       "      <td>0.650403</td>\n",
       "      <td>0.600404</td>\n",
       "      <td>0.643707</td>\n",
       "      <td>0.584001</td>\n",
       "      <td>0.512437</td>\n",
       "      <td>0.559121</td>\n",
       "      <td>0.596951</td>\n",
       "      <td>0.596030</td>\n",
       "      <td>...</td>\n",
       "      <td>0.000926</td>\n",
       "      <td>0.001583</td>\n",
       "      <td>0.002262</td>\n",
       "      <td>0.002180</td>\n",
       "      <td>0.001111</td>\n",
       "      <td>0.000833</td>\n",
       "      <td>0.001007</td>\n",
       "      <td>0.000629</td>\n",
       "      <td>4.519488e-05</td>\n",
       "      <td>P</td>\n",
       "    </tr>\n",
       "    <tr>\n",
       "      <th>1300</th>\n",
       "      <td>0.135363</td>\n",
       "      <td>0.732490</td>\n",
       "      <td>0.698547</td>\n",
       "      <td>0.730017</td>\n",
       "      <td>0.733110</td>\n",
       "      <td>0.664281</td>\n",
       "      <td>0.611099</td>\n",
       "      <td>0.649955</td>\n",
       "      <td>0.633053</td>\n",
       "      <td>0.671104</td>\n",
       "      <td>...</td>\n",
       "      <td>0.001099</td>\n",
       "      <td>0.001785</td>\n",
       "      <td>0.002457</td>\n",
       "      <td>0.002369</td>\n",
       "      <td>0.001336</td>\n",
       "      <td>0.001035</td>\n",
       "      <td>0.001215</td>\n",
       "      <td>0.000796</td>\n",
       "      <td>2.439616e-04</td>\n",
       "      <td>P</td>\n",
       "    </tr>\n",
       "    <tr>\n",
       "      <th>1301</th>\n",
       "      <td>0.072024</td>\n",
       "      <td>0.738617</td>\n",
       "      <td>0.723326</td>\n",
       "      <td>0.672603</td>\n",
       "      <td>0.584415</td>\n",
       "      <td>0.548358</td>\n",
       "      <td>0.577717</td>\n",
       "      <td>0.496668</td>\n",
       "      <td>0.501906</td>\n",
       "      <td>0.581501</td>\n",
       "      <td>...</td>\n",
       "      <td>0.000772</td>\n",
       "      <td>0.000765</td>\n",
       "      <td>0.000659</td>\n",
       "      <td>0.000534</td>\n",
       "      <td>0.000225</td>\n",
       "      <td>0.000316</td>\n",
       "      <td>0.000463</td>\n",
       "      <td>0.000272</td>\n",
       "      <td>2.147239e-05</td>\n",
       "      <td>P</td>\n",
       "    </tr>\n",
       "  </tbody>\n",
       "</table>\n",
       "<p>1302 rows × 163 columns</p>\n",
       "</div>"
      ],
      "text/plain": [
       "             0         1         2         3         4         5         6  \\\n",
       "0     0.035383  0.682562  0.631392  0.604122  0.593008  0.606561  0.541665   \n",
       "1     0.171621  0.773267  0.720554  0.698526  0.675677  0.649336  0.561003   \n",
       "2     0.036989  0.581158  0.648372  0.665474  0.574450  0.527603  0.569063   \n",
       "3     0.069629  0.589378  0.541421  0.541959  0.586754  0.491672  0.464231   \n",
       "4     0.170729  0.650319  0.608939  0.607158  0.633005  0.584595  0.527609   \n",
       "...        ...       ...       ...       ...       ...       ...       ...   \n",
       "1297  0.177409  0.685879  0.688923  0.692181  0.695660  0.732018  0.726838   \n",
       "1298  0.060417  0.741477  0.846064  0.677123  0.540445  0.546407  0.503164   \n",
       "1299  0.061669  0.701292  0.650403  0.600404  0.643707  0.584001  0.512437   \n",
       "1300  0.135363  0.732490  0.698547  0.730017  0.733110  0.664281  0.611099   \n",
       "1301  0.072024  0.738617  0.723326  0.672603  0.584415  0.548358  0.577717   \n",
       "\n",
       "             7         8         9  ...       153       154       155  \\\n",
       "0     0.490245  0.541293  0.602763  ...  0.000008  0.000010  0.000016   \n",
       "1     0.566162  0.627939  0.706442  ...  0.000611  0.000619  0.000651   \n",
       "2     0.568006  0.440939  0.413963  ...  0.000005  0.000005  0.000005   \n",
       "3     0.533424  0.623905  0.748939  ...  0.000565  0.000386  0.000424   \n",
       "4     0.540251  0.621838  0.760092  ...  0.000643  0.000473  0.000515   \n",
       "...        ...       ...       ...  ...       ...       ...       ...   \n",
       "1297  0.699215  0.664477  0.703567  ...  0.003476  0.004130  0.003975   \n",
       "1298  0.497387  0.624307  0.665305  ...  0.000683  0.000667  0.000452   \n",
       "1299  0.559121  0.596951  0.596030  ...  0.000926  0.001583  0.002262   \n",
       "1300  0.649955  0.633053  0.671104  ...  0.001099  0.001785  0.002457   \n",
       "1301  0.496668  0.501906  0.581501  ...  0.000772  0.000765  0.000659   \n",
       "\n",
       "           156       157       158       159       160           161  target  \n",
       "0     0.000037  0.000045  0.000034  0.000016  0.000007  7.018234e-07       N  \n",
       "1     0.000671  0.000714  0.000662  0.000632  0.000636  6.285412e-04       N  \n",
       "2     0.000002  0.000001  0.000001  0.000002  0.000002  3.452211e-07       N  \n",
       "3     0.000616  0.000660  0.000487  0.000254  0.000090  5.960710e-06       N  \n",
       "4     0.000710  0.000755  0.000571  0.000324  0.000174  8.189615e-05       N  \n",
       "...        ...       ...       ...       ...       ...           ...     ...  \n",
       "1297  0.003647  0.003759  0.003958  0.003687  0.002704  2.190249e-03       P  \n",
       "1298  0.000225  0.000215  0.000398  0.000448  0.000251  1.651544e-05       P  \n",
       "1299  0.002180  0.001111  0.000833  0.001007  0.000629  4.519488e-05       P  \n",
       "1300  0.002369  0.001336  0.001035  0.001215  0.000796  2.439616e-04       P  \n",
       "1301  0.000534  0.000225  0.000316  0.000463  0.000272  2.147239e-05       P  \n",
       "\n",
       "[1302 rows x 163 columns]"
      ]
     },
     "execution_count": 6,
     "metadata": {},
     "output_type": "execute_result"
    }
   ],
   "source": [
    "import pandas as pd\n",
    "import matplotlib.pyplot as plt\n",
    "import joblib\n",
    "\n",
    "df = pd.read_csv(\"../data/ref_data.csv\")\n",
    "df"
   ]
  },
  {
   "cell_type": "code",
   "execution_count": 7,
   "metadata": {},
   "outputs": [],
   "source": [
    "import fct_model\n",
    "import importlib\n",
    "importlib.reload(fct_model)\n",
    "\n",
    "X, Y, encoder, scaler = fct_model.preprocess_data(df)"
   ]
  },
  {
   "cell_type": "code",
   "execution_count": 8,
   "metadata": {},
   "outputs": [
    {
     "data": {
      "text/plain": [
       "((1041, 162, 1), (1041, 7), (261, 162, 1), (261, 7))"
      ]
     },
     "execution_count": 8,
     "metadata": {},
     "output_type": "execute_result"
    }
   ],
   "source": [
    "from sklearn.model_selection import train_test_split\n",
    "\n",
    "x_train, x_test, y_train, y_test = train_test_split(X, Y, random_state=42, test_size=0.2, stratify=Y, shuffle=True)\n",
    "x_train.shape, y_train.shape, x_test.shape, y_test.shape"
   ]
  },
  {
   "cell_type": "code",
   "execution_count": 9,
   "metadata": {},
   "outputs": [
    {
     "data": {
      "text/html": [
       "<pre style=\"white-space:pre;overflow-x:auto;line-height:normal;font-family:Menlo,'DejaVu Sans Mono',consolas,'Courier New',monospace\"><span style=\"font-weight: bold\">Model: \"sequential\"</span>\n",
       "</pre>\n"
      ],
      "text/plain": [
       "\u001b[1mModel: \"sequential\"\u001b[0m\n"
      ]
     },
     "metadata": {},
     "output_type": "display_data"
    },
    {
     "data": {
      "text/html": [
       "<pre style=\"white-space:pre;overflow-x:auto;line-height:normal;font-family:Menlo,'DejaVu Sans Mono',consolas,'Courier New',monospace\">┏━━━━━━━━━━━━━━━━━━━━━━━━━━━━━━━━━┳━━━━━━━━━━━━━━━━━━━━━━━━┳━━━━━━━━━━━━━━━┓\n",
       "┃<span style=\"font-weight: bold\"> Layer (type)                    </span>┃<span style=\"font-weight: bold\"> Output Shape           </span>┃<span style=\"font-weight: bold\">       Param # </span>┃\n",
       "┡━━━━━━━━━━━━━━━━━━━━━━━━━━━━━━━━━╇━━━━━━━━━━━━━━━━━━━━━━━━╇━━━━━━━━━━━━━━━┩\n",
       "│ conv1d (<span style=\"color: #0087ff; text-decoration-color: #0087ff\">Conv1D</span>)                 │ (<span style=\"color: #00d7ff; text-decoration-color: #00d7ff\">None</span>, <span style=\"color: #00af00; text-decoration-color: #00af00\">162</span>, <span style=\"color: #00af00; text-decoration-color: #00af00\">128</span>)       │           <span style=\"color: #00af00; text-decoration-color: #00af00\">768</span> │\n",
       "├─────────────────────────────────┼────────────────────────┼───────────────┤\n",
       "│ dropout (<span style=\"color: #0087ff; text-decoration-color: #0087ff\">Dropout</span>)               │ (<span style=\"color: #00d7ff; text-decoration-color: #00d7ff\">None</span>, <span style=\"color: #00af00; text-decoration-color: #00af00\">162</span>, <span style=\"color: #00af00; text-decoration-color: #00af00\">128</span>)       │             <span style=\"color: #00af00; text-decoration-color: #00af00\">0</span> │\n",
       "├─────────────────────────────────┼────────────────────────┼───────────────┤\n",
       "│ conv1d_1 (<span style=\"color: #0087ff; text-decoration-color: #0087ff\">Conv1D</span>)               │ (<span style=\"color: #00d7ff; text-decoration-color: #00d7ff\">None</span>, <span style=\"color: #00af00; text-decoration-color: #00af00\">162</span>, <span style=\"color: #00af00; text-decoration-color: #00af00\">64</span>)        │        <span style=\"color: #00af00; text-decoration-color: #00af00\">41,024</span> │\n",
       "├─────────────────────────────────┼────────────────────────┼───────────────┤\n",
       "│ dropout_1 (<span style=\"color: #0087ff; text-decoration-color: #0087ff\">Dropout</span>)             │ (<span style=\"color: #00d7ff; text-decoration-color: #00d7ff\">None</span>, <span style=\"color: #00af00; text-decoration-color: #00af00\">162</span>, <span style=\"color: #00af00; text-decoration-color: #00af00\">64</span>)        │             <span style=\"color: #00af00; text-decoration-color: #00af00\">0</span> │\n",
       "├─────────────────────────────────┼────────────────────────┼───────────────┤\n",
       "│ flatten (<span style=\"color: #0087ff; text-decoration-color: #0087ff\">Flatten</span>)               │ (<span style=\"color: #00d7ff; text-decoration-color: #00d7ff\">None</span>, <span style=\"color: #00af00; text-decoration-color: #00af00\">10368</span>)          │             <span style=\"color: #00af00; text-decoration-color: #00af00\">0</span> │\n",
       "├─────────────────────────────────┼────────────────────────┼───────────────┤\n",
       "│ dense (<span style=\"color: #0087ff; text-decoration-color: #0087ff\">Dense</span>)                   │ (<span style=\"color: #00d7ff; text-decoration-color: #00d7ff\">None</span>, <span style=\"color: #00af00; text-decoration-color: #00af00\">32</span>)             │       <span style=\"color: #00af00; text-decoration-color: #00af00\">331,808</span> │\n",
       "├─────────────────────────────────┼────────────────────────┼───────────────┤\n",
       "│ dense_1 (<span style=\"color: #0087ff; text-decoration-color: #0087ff\">Dense</span>)                 │ (<span style=\"color: #00d7ff; text-decoration-color: #00d7ff\">None</span>, <span style=\"color: #00af00; text-decoration-color: #00af00\">7</span>)              │           <span style=\"color: #00af00; text-decoration-color: #00af00\">231</span> │\n",
       "└─────────────────────────────────┴────────────────────────┴───────────────┘\n",
       "</pre>\n"
      ],
      "text/plain": [
       "┏━━━━━━━━━━━━━━━━━━━━━━━━━━━━━━━━━┳━━━━━━━━━━━━━━━━━━━━━━━━┳━━━━━━━━━━━━━━━┓\n",
       "┃\u001b[1m \u001b[0m\u001b[1mLayer (type)                   \u001b[0m\u001b[1m \u001b[0m┃\u001b[1m \u001b[0m\u001b[1mOutput Shape          \u001b[0m\u001b[1m \u001b[0m┃\u001b[1m \u001b[0m\u001b[1m      Param #\u001b[0m\u001b[1m \u001b[0m┃\n",
       "┡━━━━━━━━━━━━━━━━━━━━━━━━━━━━━━━━━╇━━━━━━━━━━━━━━━━━━━━━━━━╇━━━━━━━━━━━━━━━┩\n",
       "│ conv1d (\u001b[38;5;33mConv1D\u001b[0m)                 │ (\u001b[38;5;45mNone\u001b[0m, \u001b[38;5;34m162\u001b[0m, \u001b[38;5;34m128\u001b[0m)       │           \u001b[38;5;34m768\u001b[0m │\n",
       "├─────────────────────────────────┼────────────────────────┼───────────────┤\n",
       "│ dropout (\u001b[38;5;33mDropout\u001b[0m)               │ (\u001b[38;5;45mNone\u001b[0m, \u001b[38;5;34m162\u001b[0m, \u001b[38;5;34m128\u001b[0m)       │             \u001b[38;5;34m0\u001b[0m │\n",
       "├─────────────────────────────────┼────────────────────────┼───────────────┤\n",
       "│ conv1d_1 (\u001b[38;5;33mConv1D\u001b[0m)               │ (\u001b[38;5;45mNone\u001b[0m, \u001b[38;5;34m162\u001b[0m, \u001b[38;5;34m64\u001b[0m)        │        \u001b[38;5;34m41,024\u001b[0m │\n",
       "├─────────────────────────────────┼────────────────────────┼───────────────┤\n",
       "│ dropout_1 (\u001b[38;5;33mDropout\u001b[0m)             │ (\u001b[38;5;45mNone\u001b[0m, \u001b[38;5;34m162\u001b[0m, \u001b[38;5;34m64\u001b[0m)        │             \u001b[38;5;34m0\u001b[0m │\n",
       "├─────────────────────────────────┼────────────────────────┼───────────────┤\n",
       "│ flatten (\u001b[38;5;33mFlatten\u001b[0m)               │ (\u001b[38;5;45mNone\u001b[0m, \u001b[38;5;34m10368\u001b[0m)          │             \u001b[38;5;34m0\u001b[0m │\n",
       "├─────────────────────────────────┼────────────────────────┼───────────────┤\n",
       "│ dense (\u001b[38;5;33mDense\u001b[0m)                   │ (\u001b[38;5;45mNone\u001b[0m, \u001b[38;5;34m32\u001b[0m)             │       \u001b[38;5;34m331,808\u001b[0m │\n",
       "├─────────────────────────────────┼────────────────────────┼───────────────┤\n",
       "│ dense_1 (\u001b[38;5;33mDense\u001b[0m)                 │ (\u001b[38;5;45mNone\u001b[0m, \u001b[38;5;34m7\u001b[0m)              │           \u001b[38;5;34m231\u001b[0m │\n",
       "└─────────────────────────────────┴────────────────────────┴───────────────┘\n"
      ]
     },
     "metadata": {},
     "output_type": "display_data"
    },
    {
     "data": {
      "text/html": [
       "<pre style=\"white-space:pre;overflow-x:auto;line-height:normal;font-family:Menlo,'DejaVu Sans Mono',consolas,'Courier New',monospace\"><span style=\"font-weight: bold\"> Total params: </span><span style=\"color: #00af00; text-decoration-color: #00af00\">373,831</span> (1.43 MB)\n",
       "</pre>\n"
      ],
      "text/plain": [
       "\u001b[1m Total params: \u001b[0m\u001b[38;5;34m373,831\u001b[0m (1.43 MB)\n"
      ]
     },
     "metadata": {},
     "output_type": "display_data"
    },
    {
     "data": {
      "text/html": [
       "<pre style=\"white-space:pre;overflow-x:auto;line-height:normal;font-family:Menlo,'DejaVu Sans Mono',consolas,'Courier New',monospace\"><span style=\"font-weight: bold\"> Trainable params: </span><span style=\"color: #00af00; text-decoration-color: #00af00\">373,831</span> (1.43 MB)\n",
       "</pre>\n"
      ],
      "text/plain": [
       "\u001b[1m Trainable params: \u001b[0m\u001b[38;5;34m373,831\u001b[0m (1.43 MB)\n"
      ]
     },
     "metadata": {},
     "output_type": "display_data"
    },
    {
     "data": {
      "text/html": [
       "<pre style=\"white-space:pre;overflow-x:auto;line-height:normal;font-family:Menlo,'DejaVu Sans Mono',consolas,'Courier New',monospace\"><span style=\"font-weight: bold\"> Non-trainable params: </span><span style=\"color: #00af00; text-decoration-color: #00af00\">0</span> (0.00 B)\n",
       "</pre>\n"
      ],
      "text/plain": [
       "\u001b[1m Non-trainable params: \u001b[0m\u001b[38;5;34m0\u001b[0m (0.00 B)\n"
      ]
     },
     "metadata": {},
     "output_type": "display_data"
    }
   ],
   "source": [
    "cnn = fct_model.define_model(x_train.shape[1])"
   ]
  },
  {
   "cell_type": "code",
   "execution_count": 10,
   "metadata": {},
   "outputs": [
    {
     "name": "stdout",
     "output_type": "stream",
     "text": [
      "Epoch 1/50\n",
      "\u001b[1m17/17\u001b[0m \u001b[32m━━━━━━━━━━━━━━━━━━━━\u001b[0m\u001b[37m\u001b[0m \u001b[1m2s\u001b[0m 30ms/step - accuracy: 0.1989 - loss: 1.9338 - val_accuracy: 0.2452 - val_loss: 1.8588 - learning_rate: 0.0010\n",
      "Epoch 2/50\n",
      "\u001b[1m17/17\u001b[0m \u001b[32m━━━━━━━━━━━━━━━━━━━━\u001b[0m\u001b[37m\u001b[0m \u001b[1m0s\u001b[0m 22ms/step - accuracy: 0.3332 - loss: 1.7749 - val_accuracy: 0.3065 - val_loss: 1.7275 - learning_rate: 0.0010\n",
      "Epoch 3/50\n",
      "\u001b[1m17/17\u001b[0m \u001b[32m━━━━━━━━━━━━━━━━━━━━\u001b[0m\u001b[37m\u001b[0m \u001b[1m0s\u001b[0m 20ms/step - accuracy: 0.3278 - loss: 1.7122 - val_accuracy: 0.3640 - val_loss: 1.6251 - learning_rate: 0.0010\n",
      "Epoch 4/50\n",
      "\u001b[1m17/17\u001b[0m \u001b[32m━━━━━━━━━━━━━━━━━━━━\u001b[0m\u001b[37m\u001b[0m \u001b[1m0s\u001b[0m 20ms/step - accuracy: 0.4323 - loss: 1.5246 - val_accuracy: 0.3716 - val_loss: 1.5560 - learning_rate: 0.0010\n",
      "Epoch 5/50\n",
      "\u001b[1m17/17\u001b[0m \u001b[32m━━━━━━━━━━━━━━━━━━━━\u001b[0m\u001b[37m\u001b[0m \u001b[1m0s\u001b[0m 23ms/step - accuracy: 0.4731 - loss: 1.4127 - val_accuracy: 0.3946 - val_loss: 1.4825 - learning_rate: 0.0010\n",
      "Epoch 6/50\n",
      "\u001b[1m17/17\u001b[0m \u001b[32m━━━━━━━━━━━━━━━━━━━━\u001b[0m\u001b[37m\u001b[0m \u001b[1m0s\u001b[0m 20ms/step - accuracy: 0.5070 - loss: 1.3200 - val_accuracy: 0.4598 - val_loss: 1.4635 - learning_rate: 0.0010\n",
      "Epoch 7/50\n",
      "\u001b[1m17/17\u001b[0m \u001b[32m━━━━━━━━━━━━━━━━━━━━\u001b[0m\u001b[37m\u001b[0m \u001b[1m0s\u001b[0m 22ms/step - accuracy: 0.5946 - loss: 1.2047 - val_accuracy: 0.4751 - val_loss: 1.3534 - learning_rate: 0.0010\n",
      "Epoch 8/50\n",
      "\u001b[1m17/17\u001b[0m \u001b[32m━━━━━━━━━━━━━━━━━━━━\u001b[0m\u001b[37m\u001b[0m \u001b[1m0s\u001b[0m 19ms/step - accuracy: 0.6166 - loss: 1.0869 - val_accuracy: 0.5057 - val_loss: 1.3743 - learning_rate: 0.0010\n",
      "Epoch 9/50\n",
      "\u001b[1m17/17\u001b[0m \u001b[32m━━━━━━━━━━━━━━━━━━━━\u001b[0m\u001b[37m\u001b[0m \u001b[1m0s\u001b[0m 18ms/step - accuracy: 0.6447 - loss: 1.0056 - val_accuracy: 0.5479 - val_loss: 1.2824 - learning_rate: 0.0010\n",
      "Epoch 10/50\n",
      "\u001b[1m17/17\u001b[0m \u001b[32m━━━━━━━━━━━━━━━━━━━━\u001b[0m\u001b[37m\u001b[0m \u001b[1m0s\u001b[0m 19ms/step - accuracy: 0.6701 - loss: 0.9384 - val_accuracy: 0.5517 - val_loss: 1.2950 - learning_rate: 0.0010\n",
      "Epoch 11/50\n",
      "\u001b[1m17/17\u001b[0m \u001b[32m━━━━━━━━━━━━━━━━━━━━\u001b[0m\u001b[37m\u001b[0m \u001b[1m0s\u001b[0m 21ms/step - accuracy: 0.7248 - loss: 0.8766 - val_accuracy: 0.5594 - val_loss: 1.2659 - learning_rate: 0.0010\n",
      "Epoch 12/50\n",
      "\u001b[1m17/17\u001b[0m \u001b[32m━━━━━━━━━━━━━━━━━━━━\u001b[0m\u001b[37m\u001b[0m \u001b[1m0s\u001b[0m 21ms/step - accuracy: 0.7285 - loss: 0.8100 - val_accuracy: 0.5364 - val_loss: 1.2859 - learning_rate: 0.0010\n",
      "Epoch 13/50\n",
      "\u001b[1m17/17\u001b[0m \u001b[32m━━━━━━━━━━━━━━━━━━━━\u001b[0m\u001b[37m\u001b[0m \u001b[1m0s\u001b[0m 18ms/step - accuracy: 0.7228 - loss: 0.7887 - val_accuracy: 0.5402 - val_loss: 1.2555 - learning_rate: 0.0010\n",
      "Epoch 14/50\n",
      "\u001b[1m17/17\u001b[0m \u001b[32m━━━━━━━━━━━━━━━━━━━━\u001b[0m\u001b[37m\u001b[0m \u001b[1m0s\u001b[0m 19ms/step - accuracy: 0.7588 - loss: 0.7007 - val_accuracy: 0.5479 - val_loss: 1.3283 - learning_rate: 0.0010\n",
      "Epoch 15/50\n",
      "\u001b[1m17/17\u001b[0m \u001b[32m━━━━━━━━━━━━━━━━━━━━\u001b[0m\u001b[37m\u001b[0m \u001b[1m0s\u001b[0m 18ms/step - accuracy: 0.7949 - loss: 0.6635 - val_accuracy: 0.5709 - val_loss: 1.3184 - learning_rate: 0.0010\n",
      "Epoch 16/50\n",
      "\u001b[1m17/17\u001b[0m \u001b[32m━━━━━━━━━━━━━━━━━━━━\u001b[0m\u001b[37m\u001b[0m \u001b[1m0s\u001b[0m 21ms/step - accuracy: 0.7837 - loss: 0.6161 - val_accuracy: 0.5747 - val_loss: 1.3262 - learning_rate: 0.0010\n",
      "Epoch 17/50\n",
      "\u001b[1m17/17\u001b[0m \u001b[32m━━━━━━━━━━━━━━━━━━━━\u001b[0m\u001b[37m\u001b[0m \u001b[1m0s\u001b[0m 20ms/step - accuracy: 0.8125 - loss: 0.5432 - val_accuracy: 0.5785 - val_loss: 1.3629 - learning_rate: 0.0010\n",
      "Epoch 18/50\n",
      "\u001b[1m17/17\u001b[0m \u001b[32m━━━━━━━━━━━━━━━━━━━━\u001b[0m\u001b[37m\u001b[0m \u001b[1m0s\u001b[0m 19ms/step - accuracy: 0.8257 - loss: 0.5175 - val_accuracy: 0.5747 - val_loss: 1.3740 - learning_rate: 0.0010\n",
      "Epoch 19/50\n",
      "\u001b[1m17/17\u001b[0m \u001b[32m━━━━━━━━━━━━━━━━━━━━\u001b[0m\u001b[37m\u001b[0m \u001b[1m0s\u001b[0m 19ms/step - accuracy: 0.8173 - loss: 0.5556 - val_accuracy: 0.5479 - val_loss: 1.3636 - learning_rate: 0.0010\n",
      "Epoch 20/50\n",
      "\u001b[1m17/17\u001b[0m \u001b[32m━━━━━━━━━━━━━━━━━━━━\u001b[0m\u001b[37m\u001b[0m \u001b[1m0s\u001b[0m 21ms/step - accuracy: 0.8461 - loss: 0.4987 - val_accuracy: 0.5709 - val_loss: 1.3571 - learning_rate: 0.0010\n",
      "Epoch 21/50\n",
      "\u001b[1m17/17\u001b[0m \u001b[32m━━━━━━━━━━━━━━━━━━━━\u001b[0m\u001b[37m\u001b[0m \u001b[1m0s\u001b[0m 19ms/step - accuracy: 0.8550 - loss: 0.4423 - val_accuracy: 0.5824 - val_loss: 1.3772 - learning_rate: 0.0010\n",
      "Epoch 22/50\n",
      "\u001b[1m17/17\u001b[0m \u001b[32m━━━━━━━━━━━━━━━━━━━━\u001b[0m\u001b[37m\u001b[0m \u001b[1m0s\u001b[0m 19ms/step - accuracy: 0.8577 - loss: 0.4533 - val_accuracy: 0.5824 - val_loss: 1.3860 - learning_rate: 0.0010\n",
      "Epoch 23/50\n",
      "\u001b[1m17/17\u001b[0m \u001b[32m━━━━━━━━━━━━━━━━━━━━\u001b[0m\u001b[37m\u001b[0m \u001b[1m0s\u001b[0m 20ms/step - accuracy: 0.8829 - loss: 0.3837 - val_accuracy: 0.6054 - val_loss: 1.3833 - learning_rate: 0.0010\n",
      "Epoch 24/50\n",
      "\u001b[1m17/17\u001b[0m \u001b[32m━━━━━━━━━━━━━━━━━━━━\u001b[0m\u001b[37m\u001b[0m \u001b[1m0s\u001b[0m 22ms/step - accuracy: 0.8887 - loss: 0.3493 - val_accuracy: 0.6054 - val_loss: 1.4352 - learning_rate: 0.0010\n",
      "Epoch 25/50\n",
      "\u001b[1m17/17\u001b[0m \u001b[32m━━━━━━━━━━━━━━━━━━━━\u001b[0m\u001b[37m\u001b[0m \u001b[1m0s\u001b[0m 19ms/step - accuracy: 0.8450 - loss: 0.4147 - val_accuracy: 0.6092 - val_loss: 1.3827 - learning_rate: 0.0010\n",
      "Epoch 26/50\n",
      "\u001b[1m17/17\u001b[0m \u001b[32m━━━━━━━━━━━━━━━━━━━━\u001b[0m\u001b[37m\u001b[0m \u001b[1m0s\u001b[0m 20ms/step - accuracy: 0.9085 - loss: 0.3237 - val_accuracy: 0.6169 - val_loss: 1.3969 - learning_rate: 0.0010\n",
      "Epoch 27/50\n",
      "\u001b[1m17/17\u001b[0m \u001b[32m━━━━━━━━━━━━━━━━━━━━\u001b[0m\u001b[37m\u001b[0m \u001b[1m0s\u001b[0m 22ms/step - accuracy: 0.8831 - loss: 0.3435 - val_accuracy: 0.6207 - val_loss: 1.4300 - learning_rate: 0.0010\n",
      "Epoch 28/50\n",
      "\u001b[1m17/17\u001b[0m \u001b[32m━━━━━━━━━━━━━━━━━━━━\u001b[0m\u001b[37m\u001b[0m \u001b[1m0s\u001b[0m 20ms/step - accuracy: 0.9047 - loss: 0.3142 - val_accuracy: 0.6015 - val_loss: 1.4347 - learning_rate: 0.0010\n",
      "Epoch 29/50\n",
      "\u001b[1m17/17\u001b[0m \u001b[32m━━━━━━━━━━━━━━━━━━━━\u001b[0m\u001b[37m\u001b[0m \u001b[1m0s\u001b[0m 21ms/step - accuracy: 0.9124 - loss: 0.2857 - val_accuracy: 0.6245 - val_loss: 1.4900 - learning_rate: 0.0010\n",
      "Epoch 30/50\n",
      "\u001b[1m17/17\u001b[0m \u001b[32m━━━━━━━━━━━━━━━━━━━━\u001b[0m\u001b[37m\u001b[0m \u001b[1m0s\u001b[0m 21ms/step - accuracy: 0.9269 - loss: 0.2515 - val_accuracy: 0.6284 - val_loss: 1.4959 - learning_rate: 0.0010\n",
      "Epoch 31/50\n",
      "\u001b[1m17/17\u001b[0m \u001b[32m━━━━━━━━━━━━━━━━━━━━\u001b[0m\u001b[37m\u001b[0m \u001b[1m0s\u001b[0m 20ms/step - accuracy: 0.9233 - loss: 0.2471 - val_accuracy: 0.6322 - val_loss: 1.5483 - learning_rate: 0.0010\n",
      "Epoch 32/50\n",
      "\u001b[1m17/17\u001b[0m \u001b[32m━━━━━━━━━━━━━━━━━━━━\u001b[0m\u001b[37m\u001b[0m \u001b[1m0s\u001b[0m 20ms/step - accuracy: 0.8901 - loss: 0.3000 - val_accuracy: 0.6437 - val_loss: 1.4671 - learning_rate: 0.0010\n",
      "Epoch 33/50\n",
      "\u001b[1m17/17\u001b[0m \u001b[32m━━━━━━━━━━━━━━━━━━━━\u001b[0m\u001b[37m\u001b[0m \u001b[1m0s\u001b[0m 23ms/step - accuracy: 0.9276 - loss: 0.2345 - val_accuracy: 0.6284 - val_loss: 1.5427 - learning_rate: 0.0010\n",
      "Epoch 34/50\n",
      "\u001b[1m17/17\u001b[0m \u001b[32m━━━━━━━━━━━━━━━━━━━━\u001b[0m\u001b[37m\u001b[0m \u001b[1m0s\u001b[0m 20ms/step - accuracy: 0.9257 - loss: 0.2339 - val_accuracy: 0.6054 - val_loss: 1.5949 - learning_rate: 0.0010\n",
      "Epoch 35/50\n",
      "\u001b[1m17/17\u001b[0m \u001b[32m━━━━━━━━━━━━━━━━━━━━\u001b[0m\u001b[37m\u001b[0m \u001b[1m0s\u001b[0m 20ms/step - accuracy: 0.9119 - loss: 0.2370 - val_accuracy: 0.5977 - val_loss: 1.7348 - learning_rate: 0.0010\n",
      "Epoch 36/50\n",
      "\u001b[1m17/17\u001b[0m \u001b[32m━━━━━━━━━━━━━━━━━━━━\u001b[0m\u001b[37m\u001b[0m \u001b[1m0s\u001b[0m 20ms/step - accuracy: 0.9192 - loss: 0.2631 - val_accuracy: 0.6245 - val_loss: 1.5916 - learning_rate: 0.0010\n",
      "Epoch 37/50\n",
      "\u001b[1m17/17\u001b[0m \u001b[32m━━━━━━━━━━━━━━━━━━━━\u001b[0m\u001b[37m\u001b[0m \u001b[1m0s\u001b[0m 20ms/step - accuracy: 0.9470 - loss: 0.1950 - val_accuracy: 0.6398 - val_loss: 1.6010 - learning_rate: 4.0000e-04\n",
      "Epoch 38/50\n",
      "\u001b[1m17/17\u001b[0m \u001b[32m━━━━━━━━━━━━━━━━━━━━\u001b[0m\u001b[37m\u001b[0m \u001b[1m0s\u001b[0m 20ms/step - accuracy: 0.9387 - loss: 0.2042 - val_accuracy: 0.6207 - val_loss: 1.6044 - learning_rate: 4.0000e-04\n",
      "Epoch 39/50\n",
      "\u001b[1m17/17\u001b[0m \u001b[32m━━━━━━━━━━━━━━━━━━━━\u001b[0m\u001b[37m\u001b[0m \u001b[1m0s\u001b[0m 21ms/step - accuracy: 0.9427 - loss: 0.1803 - val_accuracy: 0.6437 - val_loss: 1.5728 - learning_rate: 4.0000e-04\n",
      "Epoch 40/50\n",
      "\u001b[1m17/17\u001b[0m \u001b[32m━━━━━━━━━━━━━━━━━━━━\u001b[0m\u001b[37m\u001b[0m \u001b[1m0s\u001b[0m 21ms/step - accuracy: 0.9428 - loss: 0.1902 - val_accuracy: 0.6207 - val_loss: 1.5864 - learning_rate: 4.0000e-04\n",
      "Epoch 41/50\n",
      "\u001b[1m17/17\u001b[0m \u001b[32m━━━━━━━━━━━━━━━━━━━━\u001b[0m\u001b[37m\u001b[0m \u001b[1m0s\u001b[0m 21ms/step - accuracy: 0.9526 - loss: 0.1825 - val_accuracy: 0.6360 - val_loss: 1.6048 - learning_rate: 1.6000e-04\n",
      "Epoch 42/50\n",
      "\u001b[1m17/17\u001b[0m \u001b[32m━━━━━━━━━━━━━━━━━━━━\u001b[0m\u001b[37m\u001b[0m \u001b[1m0s\u001b[0m 22ms/step - accuracy: 0.9594 - loss: 0.1569 - val_accuracy: 0.6360 - val_loss: 1.6191 - learning_rate: 1.6000e-04\n",
      "Epoch 43/50\n",
      "\u001b[1m17/17\u001b[0m \u001b[32m━━━━━━━━━━━━━━━━━━━━\u001b[0m\u001b[37m\u001b[0m \u001b[1m0s\u001b[0m 20ms/step - accuracy: 0.9547 - loss: 0.1364 - val_accuracy: 0.6475 - val_loss: 1.6154 - learning_rate: 1.6000e-04\n",
      "Epoch 44/50\n",
      "\u001b[1m17/17\u001b[0m \u001b[32m━━━━━━━━━━━━━━━━━━━━\u001b[0m\u001b[37m\u001b[0m \u001b[1m0s\u001b[0m 21ms/step - accuracy: 0.9586 - loss: 0.1468 - val_accuracy: 0.6360 - val_loss: 1.6137 - learning_rate: 1.6000e-04\n",
      "Epoch 45/50\n",
      "\u001b[1m17/17\u001b[0m \u001b[32m━━━━━━━━━━━━━━━━━━━━\u001b[0m\u001b[37m\u001b[0m \u001b[1m0s\u001b[0m 21ms/step - accuracy: 0.9425 - loss: 0.1578 - val_accuracy: 0.6360 - val_loss: 1.6187 - learning_rate: 1.6000e-04\n",
      "Epoch 46/50\n",
      "\u001b[1m17/17\u001b[0m \u001b[32m━━━━━━━━━━━━━━━━━━━━\u001b[0m\u001b[37m\u001b[0m \u001b[1m0s\u001b[0m 22ms/step - accuracy: 0.9668 - loss: 0.1275 - val_accuracy: 0.6322 - val_loss: 1.6198 - learning_rate: 6.4000e-05\n",
      "Epoch 47/50\n",
      "\u001b[1m17/17\u001b[0m \u001b[32m━━━━━━━━━━━━━━━━━━━━\u001b[0m\u001b[37m\u001b[0m \u001b[1m0s\u001b[0m 21ms/step - accuracy: 0.9685 - loss: 0.1227 - val_accuracy: 0.6322 - val_loss: 1.6218 - learning_rate: 6.4000e-05\n",
      "Epoch 48/50\n",
      "\u001b[1m17/17\u001b[0m \u001b[32m━━━━━━━━━━━━━━━━━━━━\u001b[0m\u001b[37m\u001b[0m \u001b[1m0s\u001b[0m 20ms/step - accuracy: 0.9629 - loss: 0.1354 - val_accuracy: 0.6360 - val_loss: 1.6287 - learning_rate: 6.4000e-05\n",
      "Epoch 49/50\n",
      "\u001b[1m17/17\u001b[0m \u001b[32m━━━━━━━━━━━━━━━━━━━━\u001b[0m\u001b[37m\u001b[0m \u001b[1m0s\u001b[0m 20ms/step - accuracy: 0.9479 - loss: 0.1586 - val_accuracy: 0.6398 - val_loss: 1.6268 - learning_rate: 6.4000e-05\n",
      "Epoch 50/50\n",
      "\u001b[1m17/17\u001b[0m \u001b[32m━━━━━━━━━━━━━━━━━━━━\u001b[0m\u001b[37m\u001b[0m \u001b[1m0s\u001b[0m 22ms/step - accuracy: 0.9747 - loss: 0.1235 - val_accuracy: 0.6398 - val_loss: 1.6274 - learning_rate: 2.5600e-05\n"
     ]
    }
   ],
   "source": [
    "model_train, history = fct_model.train_model(x_train, y_train, x_test, y_test, cnn)"
   ]
  },
  {
   "cell_type": "code",
   "execution_count": 11,
   "metadata": {},
   "outputs": [
    {
     "name": "stdout",
     "output_type": "stream",
     "text": [
      "\u001b[1m9/9\u001b[0m \u001b[32m━━━━━━━━━━━━━━━━━━━━\u001b[0m\u001b[37m\u001b[0m \u001b[1m0s\u001b[0m 3ms/step - accuracy: 0.6632 - loss: 1.3672\n",
      "Accuracy of our model on test data :  63.98467421531677 %\n"
     ]
    },
    {
     "data": {
      "image/png": "[encoded data removed]",
      "text/plain": [
       "<Figure size 2000x600 with 2 Axes>"
      ]
     },
     "metadata": {},
     "output_type": "display_data"
    }
   ],
   "source": [
    "fct_model.display_results(model_train, history, x_test, y_test)"
   ]
  },
  {
   "cell_type": "code",
   "execution_count": 12,
   "metadata": {},
   "outputs": [
    {
     "name": "stdout",
     "output_type": "stream",
     "text": [
      "\u001b[1m9/9\u001b[0m \u001b[32m━━━━━━━━━━━━━━━━━━━━\u001b[0m\u001b[37m\u001b[0m \u001b[1m0s\u001b[0m 9ms/step\n"
     ]
    }
   ],
   "source": [
    "y_pred, y_test = fct_model.predict_on_test(model_train, encoder, x_test, y_test)"
   ]
  },
  {
   "cell_type": "code",
   "execution_count": 13,
   "metadata": {},
   "outputs": [
    {
     "name": "stdout",
     "output_type": "stream",
     "text": [
      "  Predicted Labels Actual Labels\n",
      "0                S             S\n",
      "1                P             P\n",
      "2                N             N\n",
      "3                N             N\n",
      "4                J             J\n",
      "5                D             N\n",
      "6                T             N\n",
      "7                P             P\n",
      "8                P             P\n",
      "9                D             D\n"
     ]
    }
   ],
   "source": [
    "fct_model.show_predictions(y_pred, y_test)"
   ]
  },
  {
   "cell_type": "code",
   "execution_count": 14,
   "metadata": {},
   "outputs": [
    {
     "data": {
      "image/png": "[encoded data removed]",
      "text/plain": [
       "<Figure size 1200x1000 with 2 Axes>"
      ]
     },
     "metadata": {},
     "output_type": "display_data"
    }
   ],
   "source": [
    "fct_model.show_conf_matrix(y_pred, y_test, encoder)"
   ]
  },
  {
   "cell_type": "code",
   "execution_count": 15,
   "metadata": {},
   "outputs": [
    {
     "name": "stdout",
     "output_type": "stream",
     "text": [
      "              precision    recall  f1-score   support\n",
      "\n",
      "           C       0.74      0.68      0.71        41\n",
      "           D       0.64      0.53      0.58        40\n",
      "           J       0.68      0.57      0.62        37\n",
      "           N       0.62      0.71      0.67        42\n",
      "           P       0.61      0.65      0.62        31\n",
      "           S       0.65      0.70      0.68        37\n",
      "           T       0.55      0.64      0.59        33\n",
      "\n",
      "    accuracy                           0.64       261\n",
      "   macro avg       0.64      0.64      0.64       261\n",
      "weighted avg       0.64      0.64      0.64       261\n",
      "\n"
     ]
    }
   ],
   "source": [
    "from sklearn.metrics import classification_report\n",
    "\n",
    "print(classification_report(y_test, y_pred))"
   ]
  },
  {
   "cell_type": "markdown",
   "metadata": {},
   "source": [
    "Test single audio with saved model"
   ]
  },
  {
   "cell_type": "code",
   "execution_count": 16,
   "metadata": {},
   "outputs": [],
   "source": [
    "import librosa\n",
    "import dill\n",
    "\n",
    "with open(\"../artifacts/extract_features.pkl\", \"rb\") as f:\n",
    "    extract_features_test = dill.load(f)\n",
    "    \n",
    "data, sample_rate = librosa.load(\"../data/raw/OréauFR_01/f/sessd/10a01Da.wav\", duration=4, offset=0.6)\n",
    "test = extract_features_test(data, sample_rate)"
   ]
  },
  {
   "cell_type": "code",
   "execution_count": 17,
   "metadata": {},
   "outputs": [
    {
     "data": {
      "text/plain": [
       "(162,)"
      ]
     },
     "execution_count": 17,
     "metadata": {},
     "output_type": "execute_result"
    }
   ],
   "source": [
    "test.shape"
   ]
  },
  {
   "cell_type": "code",
   "execution_count": 18,
   "metadata": {},
   "outputs": [
    {
     "name": "stdout",
     "output_type": "stream",
     "text": [
      "\u001b[1m1/1\u001b[0m \u001b[32m━━━━━━━━━━━━━━━━━━━━\u001b[0m\u001b[37m\u001b[0m \u001b[1m0s\u001b[0m 22ms/step\n"
     ]
    }
   ],
   "source": [
    "import numpy as np\n",
    "\n",
    "scaled_test = scaler.transform(test.reshape(1, 162))\n",
    "new_test = scaled_test.reshape(1, 162, 1)\n",
    "pred = model_train.predict(new_test)\n",
    "predicted_class_index = np.argmax(pred)"
   ]
  },
  {
   "cell_type": "code",
   "execution_count": 19,
   "metadata": {},
   "outputs": [
    {
     "data": {
      "text/plain": [
       "'D'"
      ]
     },
     "execution_count": 19,
     "metadata": {},
     "output_type": "execute_result"
    }
   ],
   "source": [
    "encoder.inverse_transform(pred)[0][0]"
   ]
  },
  {
   "cell_type": "code",
   "execution_count": 20,
   "metadata": {},
   "outputs": [
    {
     "name": "stdout",
     "output_type": "stream",
     "text": [
      "Epoch 1/50\n",
      "21/21 - 1s - 63ms/step - accuracy: 0.2258 - loss: 1.8845 - learning_rate: 0.0010\n",
      "Epoch 2/50\n",
      "21/21 - 0s - 17ms/step - accuracy: 0.3456 - loss: 1.7197 - learning_rate: 0.0010\n",
      "Epoch 3/50\n",
      "21/21 - 0s - 18ms/step - accuracy: 0.4217 - loss: 1.5500 - learning_rate: 0.0010\n",
      "Epoch 4/50\n",
      "21/21 - 0s - 18ms/step - accuracy: 0.4724 - loss: 1.4112 - learning_rate: 0.0010\n",
      "Epoch 5/50\n",
      "21/21 - 0s - 17ms/step - accuracy: 0.5376 - loss: 1.2853 - learning_rate: 0.0010\n",
      "Epoch 6/50\n",
      "21/21 - 0s - 17ms/step - accuracy: 0.5814 - loss: 1.1539 - learning_rate: 0.0010\n",
      "Epoch 7/50\n",
      "21/21 - 0s - 17ms/step - accuracy: 0.6221 - loss: 1.0686 - learning_rate: 0.0010\n",
      "Epoch 8/50\n",
      "21/21 - 0s - 18ms/step - accuracy: 0.6490 - loss: 0.9804 - learning_rate: 0.0010\n",
      "Epoch 9/50\n",
      "21/21 - 0s - 18ms/step - accuracy: 0.6843 - loss: 0.9016 - learning_rate: 0.0010\n",
      "Epoch 10/50\n",
      "21/21 - 0s - 17ms/step - accuracy: 0.7166 - loss: 0.8266 - learning_rate: 0.0010\n",
      "Epoch 11/50\n",
      "21/21 - 0s - 18ms/step - accuracy: 0.7381 - loss: 0.7344 - learning_rate: 0.0010\n",
      "Epoch 12/50\n",
      "21/21 - 0s - 18ms/step - accuracy: 0.7535 - loss: 0.7186 - learning_rate: 0.0010\n",
      "Epoch 13/50\n",
      "21/21 - 0s - 18ms/step - accuracy: 0.7650 - loss: 0.6778 - learning_rate: 0.0010\n",
      "Epoch 14/50\n",
      "21/21 - 0s - 19ms/step - accuracy: 0.7811 - loss: 0.6171 - learning_rate: 0.0010\n",
      "Epoch 15/50\n",
      "21/21 - 0s - 18ms/step - accuracy: 0.8134 - loss: 0.5667 - learning_rate: 0.0010\n",
      "Epoch 16/50\n",
      "21/21 - 0s - 18ms/step - accuracy: 0.8134 - loss: 0.5538 - learning_rate: 0.0010\n",
      "Epoch 17/50\n",
      "21/21 - 0s - 18ms/step - accuracy: 0.8449 - loss: 0.4697 - learning_rate: 0.0010\n",
      "Epoch 18/50\n",
      "21/21 - 0s - 18ms/step - accuracy: 0.8303 - loss: 0.5060 - learning_rate: 0.0010\n",
      "Epoch 19/50\n",
      "21/21 - 0s - 18ms/step - accuracy: 0.8556 - loss: 0.4480 - learning_rate: 0.0010\n",
      "Epoch 20/50\n",
      "21/21 - 0s - 19ms/step - accuracy: 0.8733 - loss: 0.3892 - learning_rate: 0.0010\n",
      "Epoch 21/50\n",
      "21/21 - 0s - 18ms/step - accuracy: 0.8756 - loss: 0.3688 - learning_rate: 0.0010\n",
      "Epoch 22/50\n",
      "21/21 - 0s - 18ms/step - accuracy: 0.8763 - loss: 0.3598 - learning_rate: 0.0010\n",
      "Epoch 23/50\n",
      "21/21 - 0s - 18ms/step - accuracy: 0.8917 - loss: 0.3338 - learning_rate: 0.0010\n",
      "Epoch 24/50\n",
      "21/21 - 0s - 18ms/step - accuracy: 0.8879 - loss: 0.3250 - learning_rate: 0.0010\n",
      "Epoch 25/50\n",
      "21/21 - 0s - 17ms/step - accuracy: 0.8994 - loss: 0.3245 - learning_rate: 0.0010\n",
      "Epoch 26/50\n",
      "21/21 - 0s - 19ms/step - accuracy: 0.9201 - loss: 0.2598 - learning_rate: 0.0010\n",
      "Epoch 27/50\n",
      "21/21 - 0s - 18ms/step - accuracy: 0.8940 - loss: 0.3017 - learning_rate: 0.0010\n",
      "Epoch 28/50\n",
      "21/21 - 0s - 18ms/step - accuracy: 0.9071 - loss: 0.2767 - learning_rate: 0.0010\n",
      "Epoch 29/50\n",
      "21/21 - 0s - 18ms/step - accuracy: 0.9339 - loss: 0.2203 - learning_rate: 4.0000e-04\n",
      "Epoch 30/50\n",
      "21/21 - 0s - 18ms/step - accuracy: 0.9409 - loss: 0.1954 - learning_rate: 4.0000e-04\n",
      "Epoch 31/50\n",
      "21/21 - 0s - 17ms/step - accuracy: 0.9270 - loss: 0.2021 - learning_rate: 4.0000e-04\n",
      "Epoch 32/50\n",
      "21/21 - 0s - 18ms/step - accuracy: 0.9493 - loss: 0.1855 - learning_rate: 4.0000e-04\n",
      "Epoch 33/50\n",
      "21/21 - 0s - 18ms/step - accuracy: 0.9386 - loss: 0.1880 - learning_rate: 4.0000e-04\n",
      "Epoch 34/50\n",
      "21/21 - 0s - 18ms/step - accuracy: 0.9462 - loss: 0.1622 - learning_rate: 4.0000e-04\n",
      "Epoch 35/50\n",
      "21/21 - 0s - 18ms/step - accuracy: 0.9531 - loss: 0.1535 - learning_rate: 4.0000e-04\n",
      "Epoch 36/50\n",
      "21/21 - 0s - 19ms/step - accuracy: 0.9493 - loss: 0.1615 - learning_rate: 4.0000e-04\n",
      "Epoch 37/50\n",
      "21/21 - 0s - 21ms/step - accuracy: 0.9501 - loss: 0.1548 - learning_rate: 4.0000e-04\n",
      "Epoch 38/50\n",
      "21/21 - 0s - 18ms/step - accuracy: 0.9662 - loss: 0.1314 - learning_rate: 1.6000e-04\n",
      "Epoch 39/50\n",
      "21/21 - 0s - 18ms/step - accuracy: 0.9616 - loss: 0.1347 - learning_rate: 1.6000e-04\n",
      "Epoch 40/50\n",
      "21/21 - 0s - 17ms/step - accuracy: 0.9539 - loss: 0.1442 - learning_rate: 1.6000e-04\n",
      "Epoch 41/50\n",
      "21/21 - 0s - 17ms/step - accuracy: 0.9631 - loss: 0.1331 - learning_rate: 6.4000e-05\n",
      "Epoch 42/50\n",
      "21/21 - 0s - 18ms/step - accuracy: 0.9624 - loss: 0.1256 - learning_rate: 6.4000e-05\n",
      "Epoch 43/50\n",
      "21/21 - 0s - 19ms/step - accuracy: 0.9578 - loss: 0.1291 - learning_rate: 6.4000e-05\n",
      "Epoch 44/50\n",
      "21/21 - 0s - 18ms/step - accuracy: 0.9677 - loss: 0.1228 - learning_rate: 6.4000e-05\n",
      "Epoch 45/50\n",
      "21/21 - 0s - 18ms/step - accuracy: 0.9593 - loss: 0.1312 - learning_rate: 6.4000e-05\n",
      "Epoch 46/50\n",
      "21/21 - 0s - 18ms/step - accuracy: 0.9639 - loss: 0.1333 - learning_rate: 6.4000e-05\n",
      "Epoch 47/50\n",
      "21/21 - 0s - 18ms/step - accuracy: 0.9608 - loss: 0.1267 - learning_rate: 2.5600e-05\n",
      "Epoch 48/50\n",
      "21/21 - 0s - 17ms/step - accuracy: 0.9578 - loss: 0.1347 - learning_rate: 2.5600e-05\n",
      "Epoch 49/50\n",
      "21/21 - 0s - 18ms/step - accuracy: 0.9539 - loss: 0.1379 - learning_rate: 1.0240e-05\n",
      "Epoch 50/50\n",
      "21/21 - 0s - 18ms/step - accuracy: 0.9662 - loss: 0.1258 - learning_rate: 1.0240e-05\n"
     ]
    }
   ],
   "source": [
    "#test de la fonction train_save_model\n",
    "cnn2, history2 = fct_model.train_save_model(\"../data/ref_data.csv\", \"../artifacts\")"
   ]
  },
  {
   "cell_type": "code",
   "execution_count": 21,
   "metadata": {},
   "outputs": [],
   "source": [
    "with open(\"../artifacts/extract_features.pkl\", \"rb\") as f:\n",
    "    extract_features_test = dill.load(f)\n",
    "    \n",
    "data, sample_rate = librosa.load(\"../data/raw/OréauFR_01/m/sessj/07a01Ja.wav\", duration=2.5, offset=0.6)\n",
    "test = extract_features_test(data, sample_rate)"
   ]
  },
  {
   "cell_type": "code",
   "execution_count": 22,
   "metadata": {},
   "outputs": [
    {
     "name": "stdout",
     "output_type": "stream",
     "text": [
      "\u001b[1m1/1\u001b[0m \u001b[32m━━━━━━━━━━━━━━━━━━━━\u001b[0m\u001b[37m\u001b[0m \u001b[1m0s\u001b[0m 27ms/step\n"
     ]
    }
   ],
   "source": [
    "scaled_test = scaler.transform(test.reshape(1, 162))\n",
    "new_test = scaled_test.reshape(1, 162, 1)\n",
    "pred = model_train.predict(new_test)\n",
    "predicted_class_index = np.argmax(pred)"
   ]
  },
  {
   "cell_type": "code",
   "execution_count": 23,
   "metadata": {},
   "outputs": [
    {
     "data": {
      "text/plain": [
       "'J'"
      ]
     },
     "execution_count": 23,
     "metadata": {},
     "output_type": "execute_result"
    }
   ],
   "source": [
    "encoder.inverse_transform(pred)[0][0]"
   ]
  },
  {
   "cell_type": "code",
   "execution_count": 24,
   "metadata": {},
   "outputs": [
    {
     "name": "stdout",
     "output_type": "stream",
     "text": [
      "\u001b[1m1/1\u001b[0m \u001b[32m━━━━━━━━━━━━━━━━━━━━\u001b[0m\u001b[37m\u001b[0m \u001b[1m0s\u001b[0m 19ms/step\n"
     ]
    }
   ],
   "source": [
    "prediction = fct_model.predict_on_audio(model_train, encoder, scaler, data, sample_rate)"
   ]
  },
  {
   "cell_type": "code",
   "execution_count": 25,
   "metadata": {},
   "outputs": [
    {
     "data": {
      "text/plain": [
       "{'prediction': 'Joie 😁\\u200b'}"
      ]
     },
     "execution_count": 25,
     "metadata": {},
     "output_type": "execute_result"
    }
   ],
   "source": [
    "prediction"
   ]
  },
  {
   "cell_type": "code",
   "execution_count": null,
   "metadata": {},
   "outputs": [],
   "source": []
  }
 ],
 "metadata": {
  "kernelspec": {
   "display_name": "Python 3",
   "language": "python",
   "name": "python3"
  },
  "language_info": {
   "codemirror_mode": {
    "name": "ipython",
    "version": 3
   },
   "file_extension": ".py",
   "mimetype": "text/x-python",
   "name": "python",
   "nbconvert_exporter": "python",
   "pygments_lexer": "ipython3",
   "version": "3.12.5"
  }
 },
 "nbformat": 4,
 "nbformat_minor": 2
}
